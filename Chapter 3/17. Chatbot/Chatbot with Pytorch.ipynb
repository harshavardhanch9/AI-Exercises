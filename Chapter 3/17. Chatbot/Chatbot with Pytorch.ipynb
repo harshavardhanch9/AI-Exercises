{
 "cells": [
  {
   "cell_type": "code",
   "execution_count": 3,
   "metadata": {},
   "outputs": [
    {
     "data": {
      "text/plain": [
       "\"\\nChatbots are essential for speeding up user assistance and reducing waiting times. Chatbots can quickly extract important information such as demographics, symptoms, health insurance information and assist any patients by making appointments with specialists.\\n\\nImagine having to design a tool that allows preliminary assistance for those who must access a treatment path or must make a reservation for a specialist visit.\\n\\nCreate a dataset using the template provided as a base and prepare at least 5 different intents with 4/5 responses each.\\n\\nThe final result must ensure that users can have a dialogue of at least 3 questions and 3 answers consistent with the context.\\n\\nExample\\nA: Hello MedAssistant.\\nB: Hello. How can I help you?\\nA: I don't feel well.\\nB: Do you have any symptoms?\\nA: I have cough and nausea.\\nB: Do you want to book an appointment?\\nA: Yes, please, for tomorrow.\\n\\n\\nInfo:\\n- Feel free to change or arrange a new dataset of intents\\n- Try experimenting and tuning with the hyperparameters\\n- Feel free to use or change the code you've seen during the morning session\\n- TBD = To be done (from you!) :)\\n\""
      ]
     },
     "execution_count": 3,
     "metadata": {},
     "output_type": "execute_result"
    }
   ],
   "source": [
    "# NLP Lecture @ Strive School - 21st July 2021\n",
    "# CHATBOT with Pytorch\n",
    "\n",
    "'''\n",
    "Chatbots are essential for speeding up user assistance and reducing waiting times. Chatbots can quickly extract important information such as demographics, symptoms, health insurance information and assist any patients by making appointments with specialists.\n",
    "\n",
    "Imagine having to design a tool that allows preliminary assistance for those who must access a treatment path or must make a reservation for a specialist visit.\n",
    "\n",
    "Create a dataset using the template provided as a base and prepare at least 5 different intents with 4/5 responses each.\n",
    "\n",
    "The final result must ensure that users can have a dialogue of at least 3 questions and 3 answers consistent with the context.\n",
    "\n",
    "Example\n",
    "A: Hello MedAssistant.\n",
    "B: Hello. How can I help you?\n",
    "A: I don't feel well.\n",
    "B: Do you have any symptoms?\n",
    "A: I have cough and nausea.\n",
    "B: Do you want to book an appointment?\n",
    "A: Yes, please, for tomorrow.\n",
    "\n",
    "\n",
    "Info:\n",
    "- Feel free to change or arrange a new dataset of intents\n",
    "- Try experimenting and tuning with the hyperparameters\n",
    "- Feel free to use or change the code you've seen during the morning session\n",
    "- TBD = To be done (from you!) :)\n",
    "'''"
   ]
  },
  {
   "cell_type": "code",
   "execution_count": 4,
   "metadata": {},
   "outputs": [
    {
     "name": "stdout",
     "output_type": "stream",
     "text": [
      "WORDS \n",
      " ['Hi', 'Hey', 'How', 'are', 'you', 'Is', 'anyone', 'there', '?', 'Hello', 'Good', 'day', 'Good', 'evening', 'Good', 'night', 'Bye', 'See', 'you', 'later', 'Goodbye', 'Thanks', 'Thank', 'you', 'That', \"'s\", 'helpful', 'Thank', \"'s\", 'a', 'lot', '!', 'Which', 'hamburgers', 'do', 'you', 'have', '?', 'What', 'kinds', 'of', 'courses', 'are', 'there', '?', 'What', 'do', 'you', 'cook', '?', 'Can', 'I', 'order', 'a', 'coke', '?', 'I', \"'m\", 'hungry', 'We', \"'re\", 'starving', 'I', \"'d\", 'like', 'to', 'have', 'a', 'pizza', 'Do', 'you', 'take', 'credit', 'cards', '?', 'Do', 'you', 'accept', 'Mastercard', '?', 'Can', 'I', 'pay', 'with', 'Apple', 'Pay', 'or', 'Paypal', '?', 'Can', 'I', 'pay', 'with', 'cash', '?', 'How', 'long', 'does', 'delivery', 'take', '?', 'How', 'long', 'does', 'shipping', 'take', '?', 'When', 'do', 'I', 'get', 'my', 'delivery', '?', 'Tell', 'me', 'a', 'joke', '!', 'Tell', 'me', 'something', 'funny', '!', 'Let', 'me', 'laugh', '!']\n",
      "TAGS \n",
      " ['greeting', 'goodbye', 'thanks', 'food', 'payments', 'delivery', 'miscellaneous']\n",
      "PATTERNS \n",
      " [(['Hi'], 'greeting'), (['Hey'], 'greeting'), (['How', 'are', 'you'], 'greeting'), (['Is', 'anyone', 'there', '?'], 'greeting'), (['Hello'], 'greeting'), (['Good', 'day'], 'greeting'), (['Good', 'evening'], 'greeting'), (['Good', 'night'], 'greeting'), (['Bye'], 'goodbye'), (['See', 'you', 'later'], 'goodbye'), (['Goodbye'], 'goodbye'), (['Thanks'], 'thanks'), (['Thank', 'you'], 'thanks'), (['That', \"'s\", 'helpful'], 'thanks'), (['Thank', \"'s\", 'a', 'lot', '!'], 'thanks'), (['Which', 'hamburgers', 'do', 'you', 'have', '?'], 'food'), (['What', 'kinds', 'of', 'courses', 'are', 'there', '?'], 'food'), (['What', 'do', 'you', 'cook', '?'], 'food'), (['Can', 'I', 'order', 'a', 'coke', '?'], 'food'), (['I', \"'m\", 'hungry'], 'food'), (['We', \"'re\", 'starving'], 'food'), (['I', \"'d\", 'like', 'to', 'have', 'a', 'pizza'], 'food'), (['Do', 'you', 'take', 'credit', 'cards', '?'], 'payments'), (['Do', 'you', 'accept', 'Mastercard', '?'], 'payments'), (['Can', 'I', 'pay', 'with', 'Apple', 'Pay', 'or', 'Paypal', '?'], 'payments'), (['Can', 'I', 'pay', 'with', 'cash', '?'], 'payments'), (['How', 'long', 'does', 'delivery', 'take', '?'], 'delivery'), (['How', 'long', 'does', 'shipping', 'take', '?'], 'delivery'), (['When', 'do', 'I', 'get', 'my', 'delivery', '?'], 'delivery'), (['Tell', 'me', 'a', 'joke', '!'], 'miscellaneous'), (['Tell', 'me', 'something', 'funny', '!'], 'miscellaneous'), (['Let', 'me', 'laugh', '!'], 'miscellaneous')]\n",
      "128\n"
     ]
    }
   ],
   "source": [
    "import numpy as np\n",
    "import torch\n",
    "import json\n",
    "import torch.nn as nn\n",
    "from torch.utils.data import Dataset, DataLoader\n",
    "\n",
    "from nltk_utils import bag_of_words, tokenize, stem\n",
    "#import nltk\n",
    "#nltk.download('punkt')\n",
    "from model import NeuralNet\n",
    "\n",
    "# STEP 0: find intents patterns\n",
    "\n",
    "with open('intents.json', 'r') as f:\n",
    "    intents = json.load(f)\n",
    "\n",
    "all_words = []\n",
    "tags = []\n",
    "patterns = []\n",
    "\n",
    "for intent in intents['intents']:\n",
    "    tag = intent['tag']\n",
    "    tags.append(tag)\n",
    "    for pattern in intent['patterns']:\n",
    "        w = tokenize(pattern)\n",
    "        all_words.extend(w)\n",
    "        patterns.append((w, tag))\n",
    "\n",
    "print('WORDS \\n', all_words)\n",
    "print('TAGS \\n', tags)\n",
    "print('PATTERNS \\n', patterns)\n",
    "print(len(all_words))\n",
    "\n",
    "# TBD: loop through each sentence in our intents patterns, create a list of tags and define the patterns"
   ]
  },
  {
   "cell_type": "code",
   "execution_count": 5,
   "metadata": {},
   "outputs": [
    {
     "name": "stdout",
     "output_type": "stream",
     "text": [
      "32 patterns\n",
      "7 tags\n",
      "70 unique stemmed words\n"
     ]
    }
   ],
   "source": [
    "# STEP 1: Pre-process of the input\n",
    "# lower case? stemming? stopwords?\n",
    "ignore_words = ['?', '!', '.']\n",
    "all_words = [stem(w) for w in all_words if w not in ignore_words]\n",
    "all_words = sorted(set(all_words))\n",
    "tags = sorted(set(tags))\n",
    "\n",
    "print(len(patterns), \"patterns\")\n",
    "print(len(tags), \"tags\")\n",
    "print(len(all_words), \"unique stemmed words\")"
   ]
  },
  {
   "cell_type": "code",
   "execution_count": 6,
   "metadata": {},
   "outputs": [
    {
     "name": "stdout",
     "output_type": "stream",
     "text": [
      "[\"'d\", \"'m\", \"'re\", \"'s\", 'a', 'accept', 'anyon', 'appl', 'are', 'bye', 'can', 'card', 'cash', 'coke', 'cook', 'cours', 'credit', 'day', 'deliveri', 'do', 'doe', 'even', 'funni', 'get', 'good', 'goodby', 'hamburg', 'have', 'hello', 'help', 'hey', 'hi', 'how', 'hungri', 'i', 'is', 'joke', 'kind', 'later', 'laugh', 'let', 'like', 'long', 'lot', 'mastercard', 'me', 'my', 'night', 'of', 'or', 'order', 'pay', 'paypal', 'pizza', 'see', 'ship', 'someth', 'starv', 'take', 'tell', 'thank', 'that', 'there', 'to', 'we', 'what', 'when', 'which', 'with', 'you']\n"
     ]
    }
   ],
   "source": [
    "# STEP 2: Define training data through a bag of words\n",
    "\n",
    "X_train = []\n",
    "y_train = []\n",
    "for (pattern_sentence, tag) in patterns:\n",
    "    bag = bag_of_words(pattern_sentence, all_words)\n",
    "    X_train.append(bag)\n",
    "    label = tags.index(tag)\n",
    "    y_train.append(label)\n",
    "print(all_words)\n",
    "X_train = np.array(X_train)\n",
    "y_train = np.array(y_train)"
   ]
  },
  {
   "cell_type": "code",
   "execution_count": 7,
   "metadata": {},
   "outputs": [
    {
     "name": "stderr",
     "output_type": "stream",
     "text": [
      "C:\\Users\\harsh\\anaconda3\\envs\\NLP\\lib\\site-packages\\torch\\cuda\\__init__.py:80: UserWarning: CUDA initialization: CUDA driver initialization failed, you might not have a CUDA gpu. (Triggered internally at  ..\\c10\\cuda\\CUDAFunctions.cpp:112.)\n",
      "  return torch._C._cuda_getDeviceCount() > 0\n"
     ]
    },
    {
     "name": "stdout",
     "output_type": "stream",
     "text": [
      "Epoch [100/1000], Loss:0.8095\n",
      "Epoch [200/1000], Loss:0.2459\n",
      "Epoch [300/1000], Loss:0.0703\n",
      "Epoch [400/1000], Loss:0.0106\n",
      "Epoch [500/1000], Loss:0.0032\n",
      "Epoch [600/1000], Loss:0.0035\n",
      "Epoch [700/1000], Loss:0.0025\n",
      "Epoch [800/1000], Loss:0.0009\n",
      "Epoch [900/1000], Loss:0.0004\n",
      "Epoch [1000/1000], Loss:0.0004\n",
      "final loss: 0.0004\n",
      "training complete. file saved!\n"
     ]
    }
   ],
   "source": [
    "# STEP 3: Configure the neural network\n",
    "\n",
    "# define each parameter that is equal to 0 using an empirical value or a value based on your experience\n",
    "\n",
    "num_epochs = 1000\n",
    "batch_size = 8\n",
    "learning_rate = 0.001\n",
    "input_size = len(X_train[0])\n",
    "hidden_size = 8\n",
    "output_size = len(tags)\n",
    "\n",
    "# STEP 4: Train the model\n",
    "\n",
    "class ChatDataset(Dataset):\n",
    "\n",
    "    def __init__(self):\n",
    "        self.n_samples = len(X_train)\n",
    "        self.x_data = X_train\n",
    "        self.y_data = y_train\n",
    "\n",
    "    # support indexing such that dataset[i] can be used to get i-th sample\n",
    "    def __getitem__(self, index):\n",
    "        return self.x_data[index], self.y_data[index]\n",
    "\n",
    "    # we can call len(dataset) to return the size\n",
    "    def __len__(self):\n",
    "        return self.n_samples\n",
    "\n",
    "dataset = ChatDataset()\n",
    "train_loader = DataLoader(dataset=dataset,\n",
    "                          batch_size=batch_size,\n",
    "                          shuffle=True,\n",
    "                          num_workers=0)\n",
    "\n",
    "device = torch.device('cuda' if torch.cuda.is_available() else 'cpu')\n",
    "\n",
    "model = NeuralNet(input_size, hidden_size, output_size).to(device)\n",
    "\n",
    "# Define loss and optimizer: which one is the best one?\n",
    "\n",
    "criterion = nn.CrossEntropyLoss()\n",
    "optimizer = torch.optim.Adam(model.parameters(), lr=learning_rate)\n",
    "\n",
    "# Train the model\n",
    "for epoch in range(num_epochs):\n",
    "    for (words, labels) in train_loader:\n",
    "        words = words.to(device)\n",
    "        labels = labels.to(dtype=torch.long).to(device)\n",
    "\n",
    "        # Forward pass\n",
    "        outputs = model(words)\n",
    "        # if y would be one-hot, we must apply\n",
    "        # labels = torch.max(labels, 1)[1]\n",
    "        loss = criterion(outputs, labels)\n",
    "\n",
    "        # Backward and optimize\n",
    "        optimizer.zero_grad()\n",
    "        loss.backward()\n",
    "        optimizer.step()\n",
    "\n",
    "    if(epoch+1) % 100 == 0:\n",
    "        print(f'Epoch [{epoch+1}/{num_epochs}], Loss:{loss.item():.4f}')\n",
    "\n",
    "print(f'final loss: {loss.item():.4f}')\n",
    "\n",
    "\n",
    "data = {\n",
    "    \"model_state\": model.state_dict(),\n",
    "    \"input_size\": input_size,\n",
    "    \"hidden_size\": hidden_size,\n",
    "    \"output_size\": output_size,\n",
    "    \"all_words\": all_words,\n",
    "    \"tags\": tags\n",
    "}\n",
    "\n",
    "# STEP 5: Save the model\n",
    "file = \"trained.pth\"\n",
    "torch.save(data, file)\n",
    "print(f'training complete. file saved!')"
   ]
  },
  {
   "cell_type": "code",
   "execution_count": 8,
   "metadata": {},
   "outputs": [],
   "source": [
    "import random"
   ]
  },
  {
   "cell_type": "code",
   "execution_count": 9,
   "metadata": {},
   "outputs": [
    {
     "name": "stdout",
     "output_type": "stream",
     "text": [
      "Lets's have a chat! (type 'exit' to stop chatting!)\n",
      "tensor(0.9994, grad_fn=<SelectBackward0>)\n",
      "Bixby: We accept most major credit cards, and Paypal\n",
      "tensor(0.9989, grad_fn=<SelectBackward0>)\n",
      "Bixby: Hello, thanks for visiting\n",
      "tensor(0.9996, grad_fn=<SelectBackward0>)\n",
      "Bixby: Why do bees have sticky hair? Because they use honeycombs\n",
      "tensor(0.9979, grad_fn=<SelectBackward0>)\n",
      "Bixby: May we offer you a slice of hot pizza?\n",
      "tensor(0.8294, grad_fn=<SelectBackward0>)\n",
      "Bixby: Hey!\n",
      "tensor(0.9989, grad_fn=<SelectBackward0>)\n",
      "Bixby: What's up?\n",
      "tensor(0.5632, grad_fn=<SelectBackward0>)\n",
      "Bixby: I do not understand. Try to be more specific\n",
      "Thanks for joining me!\n"
     ]
    }
   ],
   "source": [
    "# STEP 6: Test the model\n",
    "\n",
    "device = torch.device('cuda' if torch.cuda.is_available() else 'cpu')\n",
    "# Load the intents file\n",
    "with open('intents.json', 'r') as json_data:\n",
    "    intents = json.load(json_data)\n",
    "\n",
    "# Retrieve the model and all the sizings\n",
    "file = \"trained.pth\"\n",
    "data = torch.load(file)\n",
    "\n",
    "input_size = data[\"input_size\"]\n",
    "hidden_size = data[\"hidden_size\"]\n",
    "output_size = data[\"output_size\"]\n",
    "all_words = data['all_words']\n",
    "tags = data['tags']\n",
    "model_state = data[\"model_state\"]\n",
    "\n",
    "# build the NN\n",
    "model = NeuralNet(input_size, hidden_size, output_size).to(device)\n",
    "\n",
    "model.load_state_dict(model_state)\n",
    "model.eval()\n",
    "\n",
    "# prepare a command-line conversation (don't forget something to make the user exit the script!)\n",
    "bot_name = \"Bixby\"\n",
    "print(\"Lets's have a chat! (type 'exit' to stop chatting!)\")\n",
    "\n",
    "while True:\n",
    "    sentence = input(\"You: \")\n",
    "    if sentence == \"exit\":\n",
    "        print(\"Thanks for joining me!\")\n",
    "        break\n",
    "\n",
    "    sentence = tokenize(sentence)\n",
    "    X = bag_of_words(sentence, all_words)\n",
    "    X = X.reshape(1, X.shape[0])\n",
    "    X = torch.from_numpy(X)\n",
    "\n",
    "    output = model(X)\n",
    "    _, predicted = torch.max(output, dim = 1)\n",
    "    tag = tags[predicted.item()]\n",
    "    probs = torch.softmax(output, dim= 1)\n",
    "    prob = probs[0][predicted.item()]\n",
    "    print(prob)\n",
    "    if prob.item() > 0.75:\n",
    "        for intent in intents['intents']:\n",
    "            if tag == intent['tag']:\n",
    "                print(f\"{bot_name}: {random.choice(intent['responses'])}\")\n",
    "    \n",
    "    else:\n",
    "        print(f'{bot_name}: I do not understand. Try to be more specific')\n",
    "    "
   ]
  }
 ],
 "metadata": {
  "kernelspec": {
   "display_name": "Python 3",
   "language": "python",
   "name": "python3"
  },
  "language_info": {
   "codemirror_mode": {
    "name": "ipython",
    "version": 3
   },
   "file_extension": ".py",
   "mimetype": "text/x-python",
   "name": "python",
   "nbconvert_exporter": "python",
   "pygments_lexer": "ipython3",
   "version": "3.9.7"
  }
 },
 "nbformat": 4,
 "nbformat_minor": 2
}
