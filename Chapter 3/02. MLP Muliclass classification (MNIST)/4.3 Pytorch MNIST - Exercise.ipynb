{
 "cells": [
  {
   "cell_type": "markdown",
   "metadata": {},
   "source": [
    "<div style=\"background:#222222; color:#ffffff; padding:20px\">\n",
    "    <h2 align=\"center\">Deep Learning Fundamentals</h2>\n",
    "    <h2 align=\"center\" style=\"color:#01ff84\">Multiclass Clasification: MNIST</h2>\n",
    "<div>"
   ]
  },
  {
   "cell_type": "markdown",
   "metadata": {},
   "source": [
    "## Imports"
   ]
  },
  {
   "cell_type": "code",
   "execution_count": 35,
   "metadata": {},
   "outputs": [],
   "source": [
    "%matplotlib inline\n",
    "%config InlineBackend.figure_format = 'retina'\n",
    "\n",
    "from collections import OrderedDict\n",
    "\n",
    "import numpy as np\n",
    "import matplotlib.pyplot as plt\n",
    "import time\n",
    "\n",
    "import torch\n",
    "from torch import nn\n",
    "from torch import optim\n",
    "import torch.nn.functional as F\n",
    "\n",
    "from torchvision import datasets, transforms"
   ]
  },
  {
   "cell_type": "markdown",
   "metadata": {},
   "source": [
    "## Auxliary plotting function"
   ]
  },
  {
   "cell_type": "code",
   "execution_count": 2,
   "metadata": {},
   "outputs": [],
   "source": [
    "# https://discuss.pytorch.org/t/view-classify-in-module-helper/30279/6\n",
    "\n",
    "def view_classify(img, ps):\n",
    "\n",
    "    ps = ps.data.numpy().squeeze()\n",
    "\n",
    "    fig, (ax1, ax2) = plt.subplots(figsize=(6,9), ncols=2)\n",
    "    ax1.imshow(img.resize_(1, 28, 28).numpy().squeeze())\n",
    "    ax1.axis('off')\n",
    "    ax2.barh(np.arange(10), ps)\n",
    "    ax2.set_aspect(0.1)\n",
    "    ax2.set_yticks(np.arange(10))\n",
    "    ax2.set_yticklabels(np.arange(10))\n",
    "    ax2.set_title('Class Probability')\n",
    "    ax2.set_xlim(0, 1.1)\n"
   ]
  },
  {
   "cell_type": "markdown",
   "metadata": {},
   "source": [
    "# Load MNIST Dataset\n",
    "First up, we need to get our dataset. This is provided through the `torchvision` package. The code below will download the MNIST dataset, then create training and test datasets for us. Don't worry too much about the details here, you'll learn more about this later."
   ]
  },
  {
   "cell_type": "code",
   "execution_count": 3,
   "metadata": {},
   "outputs": [],
   "source": [
    "# Define a transform to normalize the data (Preprocessing)\n",
    "transform = transforms.Compose([transforms.ToTensor(), transforms.Normalize((0.5), (0.5)) ])\n",
    "\n",
    "# Download and load the training data\n",
    "trainset    = datasets.MNIST('MNIST_data/', download=True, train=True, transform=transform)\n",
    "trainloader = torch.utils.data.DataLoader(trainset, batch_size=64, shuffle=True)\n",
    "\n",
    "# Download and load the test data\n",
    "testset    = datasets.MNIST('MNIST_data/', download=True, train=False, transform=transform)\n",
    "testloader = torch.utils.data.DataLoader(testset, batch_size=64, shuffle=True)"
   ]
  },
  {
   "cell_type": "code",
   "execution_count": 4,
   "metadata": {},
   "outputs": [],
   "source": [
    "dataiter = iter(trainloader)\n",
    "images, labels = dataiter.next()"
   ]
  },
  {
   "cell_type": "markdown",
   "metadata": {},
   "source": [
    "We have the training data loaded into `trainloader` and we make that an iterator with `iter(trainloader)`. We'd use this to loop through the dataset for training, but here I'm just grabbing the first batch so we can check out the data. We can see below that `images` is just a tensor with size (64, 1, 28, 28). So, 64 images per batch, 1 color channel, and 28x28 images."
   ]
  },
  {
   "cell_type": "code",
   "execution_count": 5,
   "metadata": {},
   "outputs": [
    {
     "data": {
      "image/png": "[encoded data removed]",
      "text/plain": [
       "<Figure size 432x288 with 1 Axes>"
      ]
     },
     "metadata": {
      "image/png": {
       "height": 248,
       "width": 251
      },
      "needs_background": "light"
     },
     "output_type": "display_data"
    }
   ],
   "source": [
    "plt.imshow(images[1].numpy().squeeze(), cmap='Greys_r');"
   ]
  },
  {
   "cell_type": "markdown",
   "metadata": {},
   "source": [
    "## Building networks with PyTorch\n",
    "\n",
    "Here I'll use PyTorch to build a simple feedfoward network to classify the MNIST images. That is, the network will receive a digit image as input and predict the digit in the image.\n",
    "\n",
    "<img src=\"assets/mlp_mnist.png\" width=600px>\n",
    "\n",
    "To build a neural network with PyTorch, you use the `torch.nn` module. The network itself is a class inheriting from `torch.nn.Module`. You define each of the operations separately, like `nn.Linear(784, 128)` for a fully connected linear layer with 784 inputs and 128 units.\n",
    "\n",
    "The class needs to include a `forward` method that implements the forward pass through the network. In this method, you pass some input tensor `x` through each of the operations you defined earlier. The `torch.nn` module also has functional equivalents for things like ReLUs in `torch.nn.functional`. This module is usually imported as `F`. Then to use a ReLU activation on some layer (which is just a tensor), you'd do `F.relu(x)`. Below are a few different commonly used activation functions.\n",
    "\n",
    "<img src=\"assets/activation.png\" width=700px>\n",
    "\n",
    "So, for this network, I'll build it with three fully connected layers, then a softmax output for predicting classes. The softmax function is similar to the sigmoid in that it squashes inputs between 0 and 1, but it's also normalized so that all the values sum to one like a proper probability distribution."
   ]
  },
  {
   "cell_type": "code",
   "execution_count": 6,
   "metadata": {},
   "outputs": [
    {
     "data": {
      "text/plain": [
       "Network(\n",
       "  (fc1): Linear(in_features=784, out_features=128, bias=True)\n",
       "  (fc2): Linear(in_features=128, out_features=64, bias=True)\n",
       "  (fc3): Linear(in_features=64, out_features=10, bias=True)\n",
       ")"
      ]
     },
     "execution_count": 6,
     "metadata": {},
     "output_type": "execute_result"
    }
   ],
   "source": [
    "class Network(nn.Module):\n",
    "    \n",
    "    # Defining the layers, 128, 64, 10 units each\n",
    "    def __init__(self):\n",
    "        super().__init__()\n",
    "        self.fc1 = nn.Linear(784, 128)\n",
    "        self.fc2 = nn.Linear(128, 64)\n",
    "        self.fc3 = nn.Linear(64, 10)\n",
    "        \n",
    "    # Forward pass through the network, returns the output logits\n",
    "    def forward(self, x):\n",
    "        x = self.fc1(x)\n",
    "        x = F.relu(x)\n",
    "        x = self.fc2(x)\n",
    "        x = F.relu(x)\n",
    "        x = self.fc3(x)\n",
    "        x = F.softmax(x, dim=1)\n",
    "        return x\n",
    "\n",
    "model = Network() \n",
    "model"
   ]
  },
  {
   "cell_type": "markdown",
   "metadata": {},
   "source": [
    "### Sequential API\n",
    "PyTorch provides a convenient way to build networks like this where a tensor is passed sequentially through operations, `nn.Sequential` ([documentation](https://pytorch.org/docs/master/nn.html#torch.nn.Sequential)). Using this to build the equivalent network:"
   ]
  },
  {
   "cell_type": "code",
   "execution_count": 12,
   "metadata": {},
   "outputs": [
    {
     "name": "stdout",
     "output_type": "stream",
     "text": [
      "Sequential(\n",
      "  (0): Linear(in_features=784, out_features=128, bias=True)\n",
      "  (1): ReLU()\n",
      "  (2): Linear(in_features=128, out_features=64, bias=True)\n",
      "  (3): ReLU()\n",
      "  (4): Linear(in_features=64, out_features=10, bias=True)\n",
      "  (5): Softmax(dim=1)\n",
      ")\n"
     ]
    }
   ],
   "source": [
    "# Hyperparameters for our network\n",
    "input_size   = 784\n",
    "hidden_sizes = [128, 64]\n",
    "output_size   = 10\n",
    "\n",
    "# Build a feed-forward network\n",
    "model = nn.Sequential(nn.Linear(input_size, hidden_sizes[0]),\n",
    "                      nn.ReLU(),\n",
    "                      nn.Linear(hidden_sizes[0], hidden_sizes[1]),\n",
    "                      nn.ReLU(),\n",
    "                      nn.Linear(hidden_sizes[1], output_size),\n",
    "                      nn.Softmax(dim=1))\n",
    "print(model)"
   ]
  },
  {
   "cell_type": "markdown",
   "metadata": {},
   "source": [
    "You can also pass in an `OrderedDict` to name the individual layers and operations. Note that a dictionary keys must be unique, so _each operation must have a different name_."
   ]
  },
  {
   "cell_type": "code",
   "execution_count": 13,
   "metadata": {},
   "outputs": [
    {
     "data": {
      "text/plain": [
       "Sequential(\n",
       "  (fc1): Linear(in_features=784, out_features=128, bias=True)\n",
       "  (relu1): ReLU()\n",
       "  (fc2): Linear(in_features=128, out_features=64, bias=True)\n",
       "  (relu2): ReLU()\n",
       "  (output): Linear(in_features=64, out_features=10, bias=True)\n",
       "  (softmax): Softmax(dim=1)\n",
       ")"
      ]
     },
     "execution_count": 13,
     "metadata": {},
     "output_type": "execute_result"
    }
   ],
   "source": [
    "model = nn.Sequential(OrderedDict([\n",
    "          ('fc1',   nn.Linear(input_size, hidden_sizes[0])),\n",
    "          ('relu1', nn.ReLU()),\n",
    "          ('fc2',   nn.Linear(hidden_sizes[0], hidden_sizes[1])),\n",
    "          ('relu2', nn.ReLU()),\n",
    "          ('output', nn.Linear(hidden_sizes[1], output_size)),\n",
    "          ('softmax', nn.Softmax(dim=1))]))\n",
    "model"
   ]
  },
  {
   "cell_type": "markdown",
   "metadata": {},
   "source": [
    "### Initializing weights and biases\n",
    "\n",
    "The weights and such are automatically initialized for you, but it's possible to customize how they are initialized. The weights and biases are tensors attached to the layer you defined, you can get them with `model.fc1.weight` for instance."
   ]
  },
  {
   "cell_type": "code",
   "execution_count": 14,
   "metadata": {},
   "outputs": [
    {
     "name": "stdout",
     "output_type": "stream",
     "text": [
      "Parameter containing:\n",
      "tensor([[-2.1186e-02,  3.0776e-02,  2.1064e-02,  ...,  7.9381e-03,\n",
      "          7.9181e-03, -1.2610e-02],\n",
      "        [-3.0299e-02, -2.1812e-02, -1.6546e-02,  ..., -1.5008e-02,\n",
      "          3.4063e-03, -3.8347e-03],\n",
      "        [-1.3007e-02, -7.7134e-03,  1.1112e-02,  ...,  3.3562e-02,\n",
      "          1.4559e-02, -2.6924e-02],\n",
      "        ...,\n",
      "        [ 6.8318e-03, -3.3296e-02, -2.5726e-02,  ..., -3.5473e-02,\n",
      "          1.3836e-04,  1.9874e-02],\n",
      "        [-2.6865e-02, -4.8370e-03,  7.3437e-05,  ...,  3.0993e-02,\n",
      "         -2.0476e-02,  1.0525e-02],\n",
      "        [ 3.3521e-02, -2.7843e-02, -1.0388e-02,  ..., -6.2567e-03,\n",
      "          5.5914e-03,  2.6779e-03]], requires_grad=True)\n",
      "Parameter containing:\n",
      "tensor([ 5.7801e-03,  1.8575e-02, -4.9466e-04,  3.2909e-02, -1.3339e-02,\n",
      "        -2.4206e-02,  2.3835e-02, -3.2679e-02, -4.7504e-03, -2.2243e-02,\n",
      "        -1.7621e-02,  3.5199e-02, -1.4843e-02, -5.9880e-03, -2.1725e-02,\n",
      "        -1.4371e-02,  9.7827e-03,  2.7758e-02,  3.0115e-02,  3.6427e-03,\n",
      "         3.5080e-02,  1.7678e-02,  2.6336e-02, -2.5894e-02, -1.7957e-02,\n",
      "        -2.6304e-02,  1.0138e-03,  5.2126e-03, -6.5933e-03,  1.4059e-02,\n",
      "         3.3411e-02, -2.9961e-02, -2.5105e-02, -1.3084e-02,  1.9431e-02,\n",
      "        -3.2259e-02,  5.5510e-03,  1.4747e-03,  2.6204e-02,  2.4046e-03,\n",
      "         3.5630e-02,  1.7787e-02, -3.0668e-02, -4.2709e-03,  9.9111e-03,\n",
      "         3.0814e-02, -4.0036e-03,  1.7601e-02, -1.6679e-02, -6.2235e-03,\n",
      "         2.3849e-02,  6.5541e-04, -1.9340e-02, -8.4591e-03, -3.4675e-02,\n",
      "        -3.5703e-02,  1.6884e-02, -1.0068e-02, -3.4473e-02, -1.2907e-02,\n",
      "         3.2975e-02, -2.8964e-02,  1.9486e-02,  3.3703e-02,  3.5335e-02,\n",
      "        -2.2382e-02, -5.1811e-03, -2.0529e-02,  3.2298e-02,  3.2526e-02,\n",
      "        -5.6380e-04, -2.6220e-02,  7.3251e-03,  7.2236e-03, -1.9038e-02,\n",
      "         1.4357e-02, -3.0256e-02,  1.7281e-02, -2.3985e-02,  4.2510e-03,\n",
      "         2.0864e-02, -2.2384e-02,  1.3731e-02, -2.0160e-02,  6.2979e-03,\n",
      "         2.7247e-02,  2.6900e-05,  2.3662e-02,  3.3359e-02, -2.4323e-02,\n",
      "         1.9327e-02, -4.8125e-04,  5.6037e-03, -2.4428e-02, -2.4722e-02,\n",
      "         6.3611e-03,  3.0882e-02, -1.3606e-02,  2.8651e-02, -2.2457e-02,\n",
      "        -1.8625e-02,  1.1273e-03, -2.9462e-02, -3.5146e-02,  3.0054e-02,\n",
      "         2.8227e-02,  2.5578e-02,  3.2523e-02, -2.1973e-02,  1.6885e-02,\n",
      "         1.8169e-02,  3.3565e-02, -2.0742e-02, -6.8069e-04, -3.3117e-02,\n",
      "         1.5914e-02, -2.8656e-02, -3.0665e-04,  1.7542e-02, -1.5009e-02,\n",
      "        -1.8159e-02,  2.0946e-02,  1.7167e-02, -7.4351e-03,  1.5625e-02,\n",
      "         3.3276e-02, -1.4319e-02,  1.8012e-02], requires_grad=True)\n"
     ]
    }
   ],
   "source": [
    "print(model.fc1.weight)\n",
    "print(model.fc1.bias)"
   ]
  },
  {
   "cell_type": "markdown",
   "metadata": {},
   "source": [
    "For custom initialization, we want to modify these tensors in place. These are actually autograd *Variables*, so we need to get back the actual tensors with `model.fc1.weight.data`. Once we have the tensors, we can fill them with zeros (for biases) or random normal values."
   ]
  },
  {
   "cell_type": "code",
   "execution_count": 15,
   "metadata": {},
   "outputs": [
    {
     "data": {
      "text/plain": [
       "tensor([0., 0., 0., 0., 0., 0., 0., 0., 0., 0., 0., 0., 0., 0., 0., 0., 0., 0., 0., 0., 0., 0., 0., 0.,\n",
       "        0., 0., 0., 0., 0., 0., 0., 0., 0., 0., 0., 0., 0., 0., 0., 0., 0., 0., 0., 0., 0., 0., 0., 0.,\n",
       "        0., 0., 0., 0., 0., 0., 0., 0., 0., 0., 0., 0., 0., 0., 0., 0., 0., 0., 0., 0., 0., 0., 0., 0.,\n",
       "        0., 0., 0., 0., 0., 0., 0., 0., 0., 0., 0., 0., 0., 0., 0., 0., 0., 0., 0., 0., 0., 0., 0., 0.,\n",
       "        0., 0., 0., 0., 0., 0., 0., 0., 0., 0., 0., 0., 0., 0., 0., 0., 0., 0., 0., 0., 0., 0., 0., 0.,\n",
       "        0., 0., 0., 0., 0., 0., 0., 0.])"
      ]
     },
     "execution_count": 15,
     "metadata": {},
     "output_type": "execute_result"
    }
   ],
   "source": [
    "# Set biases to all zeros\n",
    "model.fc1.bias.data.fill_(0)"
   ]
  },
  {
   "cell_type": "code",
   "execution_count": 16,
   "metadata": {},
   "outputs": [
    {
     "data": {
      "text/plain": [
       "tensor([[-0.0007,  0.0005, -0.0041,  ...,  0.0071, -0.0055,  0.0026],\n",
       "        [-0.0095, -0.0049, -0.0143,  ..., -0.0071, -0.0071, -0.0028],\n",
       "        [ 0.0119,  0.0160,  0.0036,  ...,  0.0061,  0.0085, -0.0002],\n",
       "        ...,\n",
       "        [ 0.0020, -0.0122, -0.0303,  ...,  0.0018,  0.0095, -0.0008],\n",
       "        [-0.0126, -0.0068,  0.0063,  ..., -0.0114, -0.0028,  0.0003],\n",
       "        [ 0.0027,  0.0100,  0.0223,  ...,  0.0039, -0.0013,  0.0035]])"
      ]
     },
     "execution_count": 16,
     "metadata": {},
     "output_type": "execute_result"
    }
   ],
   "source": [
    "# sample from random normal with standard dev = 0.01\n",
    "model.fc1.weight.data.normal_(std=0.01)"
   ]
  },
  {
   "cell_type": "markdown",
   "metadata": {},
   "source": [
    "### STEP 1: Forward pass\n",
    "\n",
    "Now that we have a network, let's see what happens when we pass in an image. This is called the forward pass. We're going to convert the image data into a tensor, then pass it through the operations defined by the network architecture."
   ]
  },
  {
   "cell_type": "code",
   "execution_count": 17,
   "metadata": {},
   "outputs": [
    {
     "data": {
      "image/png": "[encoded data removed]",
      "text/plain": [
       "<Figure size 432x648 with 2 Axes>"
      ]
     },
     "metadata": {
      "image/png": {
       "height": 195,
       "width": 349
      },
      "needs_background": "light"
     },
     "output_type": "display_data"
    }
   ],
   "source": [
    "# Grab some data \n",
    "dataiter = iter(trainloader)\n",
    "images, labels = dataiter.next()\n",
    "\n",
    "# Resize images into a 1D vector, new shape is (batch size, color channels, image pixels) \n",
    "images.resize_(64, 1, 784)\n",
    "# or images.resize_(images.shape[0], 1, 784) to not automatically get batch size\n",
    "\n",
    "# Forward pass through the network\n",
    "img_idx = 0\n",
    "ps = model.forward(images[img_idx,:])\n",
    "\n",
    "img = images[img_idx]\n",
    "view_classify(img.view(1, 28, 28), ps)"
   ]
  },
  {
   "cell_type": "markdown",
   "metadata": {},
   "source": [
    "As you can see above, our network has basically no idea what this digit is. It's because we haven't trained it yet, all the weights are random!"
   ]
  },
  {
   "cell_type": "markdown",
   "metadata": {},
   "source": [
    "# Training Neural Networks\n",
    "\n",
    "The network we built isn't so smart, it doesn't know anything about our handwritten digits. Neural networks with non-linear activations work like universal function approximators. There is some function that maps your input to the output. For example, images of handwritten digits to class probabilities. The power of neural networks is that we can train them to approximate this function, and basically any function given enough data and compute time.\n",
    "\n",
    "<img src=\"assets/function_approx.png\" width=500px>\n",
    "\n",
    "At first the network is naive, it doesn't know the function mapping the inputs to the outputs. We train the network by showing it examples of real data, then adjusting the network parameters such that it approximates this function.\n",
    "\n",
    "To find these parameters, we need to know how poorly the network is predicting the real outputs. For this we calculate a **loss function** (also called the cost), a measure of our prediction error. For example, the mean squared loss is often used in regression and binary classification problems\n",
    "\n",
    "$$\n",
    "\\ell = \\frac{1}{2n}\\sum_i^n{\\left(y_i - \\hat{y}_i\\right)^2}\n",
    "$$\n",
    "\n",
    "where $n$ is the number of training examples, $y_i$ are the true labels, and $\\hat{y}_i$ are the predicted labels.\n",
    "\n",
    "By minimizing this loss with respect to the network parameters, we can find configurations where the loss is at a minimum and the network is able to predict the correct labels with high accuracy. We find this minimum using a process called **gradient descent**. The gradient is the slope of the loss function and points in the direction of fastest change. To get to the minimum in the least amount of time, we then want to follow the gradient (downwards). You can think of this like descending a mountain by following the steepest slope to the base.\n",
    "\n",
    "<img src='assets/gradient_descent.png' width=350px>"
   ]
  },
  {
   "cell_type": "markdown",
   "metadata": {},
   "source": [
    "## Backpropagation\n",
    "\n",
    "For single layer networks, gradient descent is simple to implement. However, it's more complicated for deeper, multilayer neural networks like the one we've built. Complicated enough that it took about 30 years before researchers figured out how to train multilayer networks, although it's straightforward once you learn about it. \n",
    "\n",
    "This is done through **backpropagation** which is really just an application of the chain rule from calculus. It's easiest to understand if we convert a two layer network into a graph representation.\n",
    "\n",
    "<img src='assets/w1_backprop_graph.png' width=400px>\n",
    "\n",
    "In the forward pass through the network, our data and operations go from right to left here. To train the weights with gradient descent, we propagate the gradient of the cost backwards through the network. Mathematically, this is really just calculating the gradient of the loss with respect to the weights using the chain rule.\n",
    "\n",
    "$$\n",
    "\\frac{\\partial \\ell}{\\partial w_1} = \\frac{\\partial l_1}{\\partial w_1} \\frac{\\partial s}{\\partial l_1} \\frac{\\partial l_2}{\\partial s} \\frac{\\partial \\ell}{\\partial l_2}\n",
    "$$\n",
    "\n",
    "We update our weights using this gradient with some learning rate $\\alpha$. \n",
    "\n",
    "$$\n",
    "w^\\prime = w - \\alpha \\frac{\\partial \\ell}{\\partial w}\n",
    "$$\n",
    "\n",
    "The learning rate is set such that the weight update steps are small enough that the iterative method settles in a minimum.\n",
    "\n",
    "The first thing we need to do for training is define our loss function. In PyTorch, you'll usually see this as `criterion`. Here we're using softmax output, so we want to use `criterion = nn.CrossEntropyLoss()` as our loss. Later when training, you use `loss = criterion(output, targets)` to calculate the actual loss.\n",
    "\n",
    "We also need to define the optimizer we're using, SGD or Adam, or something along those lines. Here I'll just use SGD with `torch.optim.SGD`, passing in the network parameters and the learning rate."
   ]
  },
  {
   "cell_type": "markdown",
   "metadata": {},
   "source": [
    "## Autograd\n",
    "\n",
    "Torch provides a module, `autograd`, for automatically calculating the gradient of tensors. It does this by keeping track of operations performed on tensors. To make sure PyTorch keeps track of operations on a tensor and calculates the gradients, you need to set `requires_grad` on a tensor. You can do this at creation with the `requires_grad` keyword, or at any time with `x.requires_grad_(True)`.\n",
    "\n",
    "You can turn off gradients for a block of code with the `torch.no_grad()` content:\n",
    "```python\n",
    "x = torch.zeros(1, requires_grad=True)\n",
    ">>> with torch.no_grad():\n",
    "...     y = x * 2\n",
    ">>> y.requires_grad\n",
    "False\n",
    "```\n",
    "\n",
    "Also, you can turn on or off gradients altogether with `torch.set_grad_enabled(True|False)`.\n",
    "\n",
    "The gradients are computed with respect to some variable `z` with `z.backward()`. This does a backward pass through the operations that created `z`."
   ]
  },
  {
   "cell_type": "code",
   "execution_count": 18,
   "metadata": {},
   "outputs": [
    {
     "name": "stdout",
     "output_type": "stream",
     "text": [
      "tensor([[ 0.5545, -1.5497],\n",
      "        [ 1.2399, -1.4254]], requires_grad=True)\n"
     ]
    }
   ],
   "source": [
    "x = torch.randn(2,2, requires_grad=True)\n",
    "print(x)"
   ]
  },
  {
   "cell_type": "code",
   "execution_count": 19,
   "metadata": {},
   "outputs": [
    {
     "name": "stdout",
     "output_type": "stream",
     "text": [
      "tensor([[0.3075, 2.4017],\n",
      "        [1.5375, 2.0316]], grad_fn=<PowBackward0>)\n"
     ]
    }
   ],
   "source": [
    "y = x**2\n",
    "print(y)"
   ]
  },
  {
   "cell_type": "markdown",
   "metadata": {},
   "source": [
    "Below we can see the operation that created `y`, a power operation `PowBackward0`."
   ]
  },
  {
   "cell_type": "code",
   "execution_count": 20,
   "metadata": {},
   "outputs": [
    {
     "name": "stdout",
     "output_type": "stream",
     "text": [
      "<PowBackward0 object at 0x000001AEC17B9040>\n"
     ]
    }
   ],
   "source": [
    "## grad_fn shows the function that generated this variable\n",
    "print(y.grad_fn)"
   ]
  },
  {
   "cell_type": "markdown",
   "metadata": {},
   "source": [
    "The autgrad module keeps track of these operations and knows how to calculate the gradient for each one. In this way, it's able to calculate the gradients for a chain of operations, with respect to any one tensor. Let's reduce the tensor `y` to a scalar value, the mean."
   ]
  },
  {
   "cell_type": "code",
   "execution_count": 21,
   "metadata": {},
   "outputs": [
    {
     "name": "stdout",
     "output_type": "stream",
     "text": [
      "tensor(1.5696, grad_fn=<MeanBackward0>)\n"
     ]
    }
   ],
   "source": [
    "z = y.mean()\n",
    "print(z)"
   ]
  },
  {
   "cell_type": "markdown",
   "metadata": {},
   "source": [
    "You can check the gradients for `x` and `y` but they are empty currently."
   ]
  },
  {
   "cell_type": "code",
   "execution_count": 22,
   "metadata": {},
   "outputs": [
    {
     "name": "stdout",
     "output_type": "stream",
     "text": [
      "None\n"
     ]
    }
   ],
   "source": [
    "print(x.grad)"
   ]
  },
  {
   "cell_type": "markdown",
   "metadata": {},
   "source": [
    "To calculate the gradients, you need to run the `.backward` method on a Variable, `z` for example. This will calculate the gradient for `z` with respect to `x`\n",
    "\n",
    "$$\n",
    "\\frac{\\partial z}{\\partial x} = \\frac{\\partial}{\\partial x}\\left[\\frac{1}{n}\\sum_i^n x_i^2\\right] = \\frac{x}{2}\n",
    "$$"
   ]
  },
  {
   "cell_type": "code",
   "execution_count": 23,
   "metadata": {},
   "outputs": [
    {
     "name": "stdout",
     "output_type": "stream",
     "text": [
      "tensor([[ 0.2773, -0.7749],\n",
      "        [ 0.6200, -0.7127]])\n",
      "tensor([[ 0.2773, -0.7749],\n",
      "        [ 0.6200, -0.7127]], grad_fn=<DivBackward0>)\n"
     ]
    }
   ],
   "source": [
    "z.backward()\n",
    "print(x.grad)\n",
    "print(x/2)"
   ]
  },
  {
   "cell_type": "markdown",
   "metadata": {},
   "source": [
    "These gradients calculations are particularly useful for neural networks. For training we need the gradients of the weights with respect to the cost. With PyTorch, we run data forward through the network to calculate the cost, then, go backwards to calculate the gradients with respect to the cost. Once we have the gradients we can make a gradient descent step. "
   ]
  },
  {
   "cell_type": "markdown",
   "metadata": {},
   "source": [
    "I'll build a network with `nn.Sequential` here. Only difference from the last part is I'm not actually using softmax on the output, but instead just using the raw output from the last layer. This is because the output from softmax is a probability distribution. Often, the output will have values really close to zero or really close to one. Due to [inaccuracies with representing numbers as floating points](https://docs.python.org/3/tutorial/floatingpoint.html), computations with a softmax output can lose accuracy and become unstable. To get around this, we'll use the raw output, called the **logits**, to calculate the loss."
   ]
  },
  {
   "cell_type": "code",
   "execution_count": 24,
   "metadata": {},
   "outputs": [],
   "source": [
    "# Hyperparameters for our network\n",
    "input_size   = 784\n",
    "hidden_sizes = [128, 64]\n",
    "output_size  = 10\n",
    "\n",
    "# Build a feed-forward network\n",
    "model = nn.Sequential(OrderedDict([\n",
    "          ('fc1', nn.Linear(input_size, hidden_sizes[0])),\n",
    "          ('relu1', nn.ReLU()),\n",
    "          ('fc2', nn.Linear(hidden_sizes[0], hidden_sizes[1])),\n",
    "          ('relu2', nn.ReLU()),\n",
    "          ('logits', nn.Linear(hidden_sizes[1], output_size))]))"
   ]
  },
  {
   "cell_type": "markdown",
   "metadata": {},
   "source": [
    "## Training the network!\n",
    "\n",
    "The first thing we need to do for training is define our loss function. In PyTorch, you'll usually see this as `criterion`. Here we're using softmax output, so we want to use `criterion = nn.CrossEntropyLoss()` as our loss. Later when training, you use `loss = criterion(output, targets)` to calculate the actual loss.\n",
    "\n",
    "We also need to define the optimizer we're using, SGD or Adam, or something along those lines. Here I'll just use SGD with `torch.optim.SGD`, passing in the network parameters and the learning rate."
   ]
  },
  {
   "cell_type": "code",
   "execution_count": 25,
   "metadata": {},
   "outputs": [],
   "source": [
    "criterion = nn.CrossEntropyLoss()\n",
    "optimizer = optim.SGD(model.parameters(), lr=0.01)"
   ]
  },
  {
   "cell_type": "markdown",
   "metadata": {},
   "source": [
    "First, let's consider just one learning step before looping through all the data. The general process with PyTorch:\n",
    "\n",
    "* Make a forward pass through the network to get the logits \n",
    "* Use the logits to calculate the loss\n",
    "* Perform a backward pass through the network with `loss.backward()` to calculate the gradients\n",
    "* Take a step with the optimizer to update the weights\n",
    "\n",
    "Below I'll go through one training step and print out the weights and gradients so you can see how it changes."
   ]
  },
  {
   "cell_type": "code",
   "execution_count": 26,
   "metadata": {},
   "outputs": [
    {
     "name": "stdout",
     "output_type": "stream",
     "text": [
      "Initial weights -  Parameter containing:\n",
      "tensor([[ 0.0022, -0.0283, -0.0268,  ...,  0.0062, -0.0340,  0.0013],\n",
      "        [ 0.0177,  0.0006,  0.0103,  ..., -0.0130,  0.0210,  0.0245],\n",
      "        [ 0.0042,  0.0199,  0.0353,  ..., -0.0009, -0.0072, -0.0096],\n",
      "        ...,\n",
      "        [ 0.0211, -0.0111,  0.0113,  ..., -0.0099,  0.0304,  0.0335],\n",
      "        [-0.0313,  0.0141,  0.0228,  ...,  0.0289, -0.0288, -0.0311],\n",
      "        [-0.0265, -0.0353, -0.0093,  ..., -0.0017, -0.0290, -0.0351]],\n",
      "       requires_grad=True)\n",
      "Gradient - tensor([[-0.0038, -0.0038, -0.0038,  ..., -0.0038, -0.0038, -0.0038],\n",
      "        [-0.0005, -0.0005, -0.0005,  ..., -0.0005, -0.0005, -0.0005],\n",
      "        [-0.0010, -0.0010, -0.0010,  ..., -0.0010, -0.0010, -0.0010],\n",
      "        ...,\n",
      "        [ 0.0032,  0.0032,  0.0032,  ...,  0.0032,  0.0032,  0.0032],\n",
      "        [-0.0051, -0.0051, -0.0051,  ..., -0.0051, -0.0051, -0.0051],\n",
      "        [-0.0008, -0.0008, -0.0008,  ..., -0.0008, -0.0008, -0.0008]])\n"
     ]
    }
   ],
   "source": [
    "print('Initial weights - ', model.fc1.weight)\n",
    "\n",
    "images, labels = next(iter(trainloader))\n",
    "images.resize_(64, 784)\n",
    "\n",
    "# Clear the gradients, do this because gradients are accumulated\n",
    "optimizer.zero_grad()\n",
    "\n",
    "# Forward pass, then backward pass, then update weights\n",
    "output = model.forward(images)\n",
    "loss = criterion(output, labels)\n",
    "loss.backward()\n",
    "print('Gradient -', model.fc1.weight.grad)\n",
    "optimizer.step()"
   ]
  },
  {
   "cell_type": "code",
   "execution_count": 27,
   "metadata": {},
   "outputs": [
    {
     "name": "stdout",
     "output_type": "stream",
     "text": [
      "Updated weights -  Parameter containing:\n",
      "tensor([[ 0.0022, -0.0282, -0.0267,  ...,  0.0063, -0.0340,  0.0013],\n",
      "        [ 0.0177,  0.0006,  0.0103,  ..., -0.0130,  0.0210,  0.0245],\n",
      "        [ 0.0042,  0.0199,  0.0354,  ..., -0.0009, -0.0072, -0.0096],\n",
      "        ...,\n",
      "        [ 0.0211, -0.0112,  0.0113,  ..., -0.0099,  0.0303,  0.0335],\n",
      "        [-0.0313,  0.0142,  0.0228,  ...,  0.0290, -0.0288, -0.0310],\n",
      "        [-0.0265, -0.0353, -0.0093,  ..., -0.0017, -0.0290, -0.0351]],\n",
      "       requires_grad=True)\n"
     ]
    }
   ],
   "source": [
    "print('Updated weights - ', model.fc1.weight)"
   ]
  },
  {
   "cell_type": "markdown",
   "metadata": {},
   "source": [
    "### Training for real\n",
    "\n",
    "Now we'll put this algorithm into a loop so we can go through all the images. This is fairly straightforward. We'll loop through the mini-batches in our dataset, pass the data through the network to calculate the losses, get the gradients, then run the optimizer."
   ]
  },
  {
   "cell_type": "code",
   "execution_count": 28,
   "metadata": {},
   "outputs": [],
   "source": [
    "optimizer = optim.SGD(model.parameters(), lr=0.003)"
   ]
  },
  {
   "cell_type": "code",
   "execution_count": 29,
   "metadata": {},
   "outputs": [
    {
     "name": "stdout",
     "output_type": "stream",
     "text": [
      "Epoch: 1/10\n",
      "\tIteration: 0\t Loss: 0.0573\n",
      "\tIteration: 40\t Loss: 2.2979\n",
      "\tIteration: 80\t Loss: 2.2774\n",
      "\tIteration: 120\t Loss: 2.2575\n",
      "\tIteration: 160\t Loss: 2.2358\n",
      "\tIteration: 200\t Loss: 2.2176\n",
      "\tIteration: 240\t Loss: 2.1954\n",
      "\tIteration: 280\t Loss: 2.1658\n",
      "\tIteration: 320\t Loss: 2.1393\n",
      "\tIteration: 360\t Loss: 2.1036\n",
      "\tIteration: 400\t Loss: 2.0684\n",
      "\tIteration: 440\t Loss: 2.0266\n",
      "\tIteration: 480\t Loss: 1.9892\n",
      "\tIteration: 520\t Loss: 1.9368\n",
      "\tIteration: 560\t Loss: 1.8790\n",
      "\tIteration: 600\t Loss: 1.8149\n",
      "\tIteration: 640\t Loss: 1.7682\n",
      "\tIteration: 680\t Loss: 1.6882\n",
      "\tIteration: 720\t Loss: 1.6332\n",
      "\tIteration: 760\t Loss: 1.5794\n",
      "\tIteration: 800\t Loss: 1.5186\n",
      "\tIteration: 840\t Loss: 1.4249\n",
      "\tIteration: 880\t Loss: 1.3688\n",
      "\tIteration: 920\t Loss: 1.2922\n",
      "Epoch: 2/10\n",
      "\tIteration: 0\t Loss: 0.0328\n",
      "\tIteration: 40\t Loss: 1.2364\n",
      "\tIteration: 80\t Loss: 1.1719\n",
      "\tIteration: 120\t Loss: 1.1269\n",
      "\tIteration: 160\t Loss: 1.0638\n",
      "\tIteration: 200\t Loss: 1.0183\n",
      "\tIteration: 240\t Loss: 0.9975\n",
      "\tIteration: 280\t Loss: 0.9362\n",
      "\tIteration: 320\t Loss: 0.8955\n",
      "\tIteration: 360\t Loss: 0.8658\n",
      "\tIteration: 400\t Loss: 0.8411\n",
      "\tIteration: 440\t Loss: 0.8124\n",
      "\tIteration: 480\t Loss: 0.7861\n",
      "\tIteration: 520\t Loss: 0.7595\n",
      "\tIteration: 560\t Loss: 0.7347\n",
      "\tIteration: 600\t Loss: 0.7297\n",
      "\tIteration: 640\t Loss: 0.6930\n",
      "\tIteration: 680\t Loss: 0.6785\n",
      "\tIteration: 720\t Loss: 0.6820\n",
      "\tIteration: 760\t Loss: 0.6795\n",
      "\tIteration: 800\t Loss: 0.6534\n",
      "\tIteration: 840\t Loss: 0.6235\n",
      "\tIteration: 880\t Loss: 0.6187\n",
      "\tIteration: 920\t Loss: 0.6133\n",
      "Epoch: 3/10\n",
      "\tIteration: 0\t Loss: 0.0186\n",
      "\tIteration: 40\t Loss: 0.5916\n",
      "\tIteration: 80\t Loss: 0.5789\n",
      "\tIteration: 120\t Loss: 0.5571\n",
      "\tIteration: 160\t Loss: 0.5606\n",
      "\tIteration: 200\t Loss: 0.5801\n",
      "\tIteration: 240\t Loss: 0.5487\n",
      "\tIteration: 280\t Loss: 0.5447\n",
      "\tIteration: 320\t Loss: 0.5664\n",
      "\tIteration: 360\t Loss: 0.5085\n",
      "\tIteration: 400\t Loss: 0.5144\n",
      "\tIteration: 440\t Loss: 0.5263\n",
      "\tIteration: 480\t Loss: 0.5160\n",
      "\tIteration: 520\t Loss: 0.5213\n",
      "\tIteration: 560\t Loss: 0.4991\n",
      "\tIteration: 600\t Loss: 0.5201\n",
      "\tIteration: 640\t Loss: 0.4500\n",
      "\tIteration: 680\t Loss: 0.4598\n",
      "\tIteration: 720\t Loss: 0.4738\n",
      "\tIteration: 760\t Loss: 0.4649\n",
      "\tIteration: 800\t Loss: 0.4830\n",
      "\tIteration: 840\t Loss: 0.4665\n",
      "\tIteration: 880\t Loss: 0.4698\n",
      "\tIteration: 920\t Loss: 0.4551\n",
      "Epoch: 4/10\n",
      "\tIteration: 0\t Loss: 0.0148\n",
      "\tIteration: 40\t Loss: 0.4421\n",
      "\tIteration: 80\t Loss: 0.4533\n",
      "\tIteration: 120\t Loss: 0.4223\n",
      "\tIteration: 160\t Loss: 0.4608\n",
      "\tIteration: 200\t Loss: 0.4532\n",
      "\tIteration: 240\t Loss: 0.4373\n",
      "\tIteration: 280\t Loss: 0.4018\n",
      "\tIteration: 320\t Loss: 0.4372\n",
      "\tIteration: 360\t Loss: 0.4376\n",
      "\tIteration: 400\t Loss: 0.4551\n",
      "\tIteration: 440\t Loss: 0.4209\n",
      "\tIteration: 480\t Loss: 0.4454\n",
      "\tIteration: 520\t Loss: 0.4456\n",
      "\tIteration: 560\t Loss: 0.4113\n",
      "\tIteration: 600\t Loss: 0.3952\n",
      "\tIteration: 640\t Loss: 0.4239\n",
      "\tIteration: 680\t Loss: 0.4119\n",
      "\tIteration: 720\t Loss: 0.4163\n",
      "\tIteration: 760\t Loss: 0.4011\n",
      "\tIteration: 800\t Loss: 0.4144\n",
      "\tIteration: 840\t Loss: 0.4421\n",
      "\tIteration: 880\t Loss: 0.3757\n",
      "\tIteration: 920\t Loss: 0.3908\n",
      "Epoch: 5/10\n",
      "\tIteration: 0\t Loss: 0.0100\n",
      "\tIteration: 40\t Loss: 0.3873\n",
      "\tIteration: 80\t Loss: 0.3892\n",
      "\tIteration: 120\t Loss: 0.3936\n",
      "\tIteration: 160\t Loss: 0.4038\n",
      "\tIteration: 200\t Loss: 0.4118\n",
      "\tIteration: 240\t Loss: 0.3857\n",
      "\tIteration: 280\t Loss: 0.4031\n",
      "\tIteration: 320\t Loss: 0.3660\n",
      "\tIteration: 360\t Loss: 0.4226\n",
      "\tIteration: 400\t Loss: 0.3801\n",
      "\tIteration: 440\t Loss: 0.3867\n",
      "\tIteration: 480\t Loss: 0.4017\n",
      "\tIteration: 520\t Loss: 0.3932\n",
      "\tIteration: 560\t Loss: 0.3899\n",
      "\tIteration: 600\t Loss: 0.4202\n",
      "\tIteration: 640\t Loss: 0.3705\n",
      "\tIteration: 680\t Loss: 0.3452\n",
      "\tIteration: 720\t Loss: 0.3551\n",
      "\tIteration: 760\t Loss: 0.3797\n",
      "\tIteration: 800\t Loss: 0.3826\n",
      "\tIteration: 840\t Loss: 0.3834\n",
      "\tIteration: 880\t Loss: 0.3791\n",
      "\tIteration: 920\t Loss: 0.3668\n",
      "Epoch: 6/10\n",
      "\tIteration: 0\t Loss: 0.0071\n",
      "\tIteration: 40\t Loss: 0.3668\n",
      "\tIteration: 80\t Loss: 0.3874\n",
      "\tIteration: 120\t Loss: 0.3762\n",
      "\tIteration: 160\t Loss: 0.3559\n",
      "\tIteration: 200\t Loss: 0.3613\n",
      "\tIteration: 240\t Loss: 0.3837\n",
      "\tIteration: 280\t Loss: 0.3653\n",
      "\tIteration: 320\t Loss: 0.3704\n",
      "\tIteration: 360\t Loss: 0.3717\n",
      "\tIteration: 400\t Loss: 0.3809\n",
      "\tIteration: 440\t Loss: 0.3431\n",
      "\tIteration: 480\t Loss: 0.3562\n",
      "\tIteration: 520\t Loss: 0.3827\n",
      "\tIteration: 560\t Loss: 0.3628\n",
      "\tIteration: 600\t Loss: 0.3363\n",
      "\tIteration: 640\t Loss: 0.3512\n",
      "\tIteration: 680\t Loss: 0.3660\n",
      "\tIteration: 720\t Loss: 0.3758\n",
      "\tIteration: 760\t Loss: 0.3662\n",
      "\tIteration: 800\t Loss: 0.3414\n",
      "\tIteration: 840\t Loss: 0.3506\n",
      "\tIteration: 880\t Loss: 0.3283\n",
      "\tIteration: 920\t Loss: 0.3466\n",
      "Epoch: 7/10\n",
      "\tIteration: 0\t Loss: 0.0062\n",
      "\tIteration: 40\t Loss: 0.3608\n",
      "\tIteration: 80\t Loss: 0.3511\n",
      "\tIteration: 120\t Loss: 0.3265\n",
      "\tIteration: 160\t Loss: 0.3661\n",
      "\tIteration: 200\t Loss: 0.3413\n",
      "\tIteration: 240\t Loss: 0.3528\n",
      "\tIteration: 280\t Loss: 0.3384\n",
      "\tIteration: 320\t Loss: 0.3269\n",
      "\tIteration: 360\t Loss: 0.3346\n",
      "\tIteration: 400\t Loss: 0.3472\n",
      "\tIteration: 440\t Loss: 0.3620\n",
      "\tIteration: 480\t Loss: 0.3877\n",
      "\tIteration: 520\t Loss: 0.3238\n",
      "\tIteration: 560\t Loss: 0.3439\n",
      "\tIteration: 600\t Loss: 0.3508\n",
      "\tIteration: 640\t Loss: 0.3434\n",
      "\tIteration: 680\t Loss: 0.3540\n",
      "\tIteration: 720\t Loss: 0.3192\n",
      "\tIteration: 760\t Loss: 0.3495\n",
      "\tIteration: 800\t Loss: 0.3381\n",
      "\tIteration: 840\t Loss: 0.3253\n",
      "\tIteration: 880\t Loss: 0.3402\n",
      "\tIteration: 920\t Loss: 0.3244\n",
      "Epoch: 8/10\n",
      "\tIteration: 0\t Loss: 0.0101\n",
      "\tIteration: 40\t Loss: 0.3450\n",
      "\tIteration: 80\t Loss: 0.3444\n",
      "\tIteration: 120\t Loss: 0.3305\n",
      "\tIteration: 160\t Loss: 0.3183\n",
      "\tIteration: 200\t Loss: 0.3313\n",
      "\tIteration: 240\t Loss: 0.3420\n",
      "\tIteration: 280\t Loss: 0.3376\n",
      "\tIteration: 320\t Loss: 0.3034\n",
      "\tIteration: 360\t Loss: 0.3413\n",
      "\tIteration: 400\t Loss: 0.3101\n",
      "\tIteration: 440\t Loss: 0.3446\n",
      "\tIteration: 480\t Loss: 0.3674\n",
      "\tIteration: 520\t Loss: 0.3253\n",
      "\tIteration: 560\t Loss: 0.3350\n",
      "\tIteration: 600\t Loss: 0.3363\n",
      "\tIteration: 640\t Loss: 0.3220\n",
      "\tIteration: 680\t Loss: 0.3174\n",
      "\tIteration: 720\t Loss: 0.3191\n",
      "\tIteration: 760\t Loss: 0.3260\n",
      "\tIteration: 800\t Loss: 0.3092\n",
      "\tIteration: 840\t Loss: 0.3456\n",
      "\tIteration: 880\t Loss: 0.3134\n",
      "\tIteration: 920\t Loss: 0.3318\n",
      "Epoch: 9/10\n",
      "\tIteration: 0\t Loss: 0.0088\n",
      "\tIteration: 40\t Loss: 0.3361\n",
      "\tIteration: 80\t Loss: 0.3161\n",
      "\tIteration: 120\t Loss: 0.3122\n",
      "\tIteration: 160\t Loss: 0.3255\n",
      "\tIteration: 200\t Loss: 0.3123\n",
      "\tIteration: 240\t Loss: 0.3246\n",
      "\tIteration: 280\t Loss: 0.3322\n",
      "\tIteration: 320\t Loss: 0.3306\n",
      "\tIteration: 360\t Loss: 0.3200\n",
      "\tIteration: 400\t Loss: 0.3422\n",
      "\tIteration: 440\t Loss: 0.3314\n",
      "\tIteration: 480\t Loss: 0.3215\n",
      "\tIteration: 520\t Loss: 0.2850\n",
      "\tIteration: 560\t Loss: 0.2823\n",
      "\tIteration: 600\t Loss: 0.3233\n",
      "\tIteration: 640\t Loss: 0.3131\n",
      "\tIteration: 680\t Loss: 0.3271\n",
      "\tIteration: 720\t Loss: 0.3148\n",
      "\tIteration: 760\t Loss: 0.2947\n",
      "\tIteration: 800\t Loss: 0.2991\n",
      "\tIteration: 840\t Loss: 0.3277\n",
      "\tIteration: 880\t Loss: 0.3235\n",
      "\tIteration: 920\t Loss: 0.3117\n",
      "Epoch: 10/10\n",
      "\tIteration: 0\t Loss: 0.0074\n",
      "\tIteration: 40\t Loss: 0.3345\n",
      "\tIteration: 80\t Loss: 0.3019\n",
      "\tIteration: 120\t Loss: 0.3168\n",
      "\tIteration: 160\t Loss: 0.3037\n",
      "\tIteration: 200\t Loss: 0.3290\n",
      "\tIteration: 240\t Loss: 0.3071\n",
      "\tIteration: 280\t Loss: 0.3020\n",
      "\tIteration: 320\t Loss: 0.3109\n",
      "\tIteration: 360\t Loss: 0.2735\n",
      "\tIteration: 400\t Loss: 0.3182\n",
      "\tIteration: 440\t Loss: 0.3181\n",
      "\tIteration: 480\t Loss: 0.3224\n",
      "\tIteration: 520\t Loss: 0.3178\n",
      "\tIteration: 560\t Loss: 0.3021\n",
      "\tIteration: 600\t Loss: 0.2909\n",
      "\tIteration: 640\t Loss: 0.3311\n",
      "\tIteration: 680\t Loss: 0.2995\n",
      "\tIteration: 720\t Loss: 0.3025\n",
      "\tIteration: 760\t Loss: 0.2830\n",
      "\tIteration: 800\t Loss: 0.3280\n",
      "\tIteration: 840\t Loss: 0.3081\n",
      "\tIteration: 880\t Loss: 0.3251\n",
      "\tIteration: 920\t Loss: 0.2912\n"
     ]
    }
   ],
   "source": [
    "epochs = 3\n",
    "print_every = 40\n",
    "\n",
    "for e in range(epochs):\n",
    "    running_loss = 0\n",
    "    print(f\"Epoch: {e+1}/{epochs}\")\n",
    "\n",
    "    for i, (images, labels) in enumerate(iter(trainloader)):\n",
    "\n",
    "        # Flatten MNIST images into a 784 long vector\n",
    "        images.resize_(images.size()[0], 784)\n",
    "        \n",
    "        optimizer.zero_grad()\n",
    "        \n",
    "        output = model.forward(images)   # 1) Forward pass\n",
    "        loss = criterion(output, labels) # 2) Compute loss\n",
    "        loss.backward()                  # 3) Backward pass\n",
    "        optimizer.step()                 # 4) Update model\n",
    "        \n",
    "        running_loss += loss.item()\n",
    "        \n",
    "        if i % print_every == 0:\n",
    "            print(f\"\\tIteration: {i}\\t Loss: {running_loss/print_every:.4f}\")\n",
    "            running_loss = 0"
   ]
  },
  {
   "cell_type": "markdown",
   "metadata": {},
   "source": [
    "With the network trained, we can check out it's predictions."
   ]
  },
  {
   "cell_type": "code",
   "execution_count": 30,
   "metadata": {},
   "outputs": [
    {
     "data": {
      "image/png": "[encoded data removed]",
      "text/plain": [
       "<Figure size 432x648 with 2 Axes>"
      ]
     },
     "metadata": {
      "image/png": {
       "height": 195,
       "width": 349
      },
      "needs_background": "light"
     },
     "output_type": "display_data"
    }
   ],
   "source": [
    "images, labels = next(iter(trainloader))\n",
    "\n",
    "img = images[0].view(1, 784)\n",
    "# Turn off gradients to speed up this part\n",
    "with torch.no_grad():\n",
    "    logits = model.forward(img)\n",
    "\n",
    "# Output of the network are logits, need to take softmax for probabilities\n",
    "ps = F.softmax(logits, dim=1)\n",
    "view_classify(img.view(1, 28, 28), ps)"
   ]
  },
  {
   "cell_type": "markdown",
   "metadata": {},
   "source": [
    "Now our network is brilliant. It can accurately predict the digits in our images."
   ]
  },
  {
   "cell_type": "markdown",
   "metadata": {},
   "source": [
    "<div style=\"background:#222222; color:#ffffff; padding:20px\">\n",
    "    <h2 align=\"center\" style=\"color:#01ff84\">MNIST Clasification: Exercise</h2>\n",
    "<div>"
   ]
  },
  {
   "cell_type": "markdown",
   "metadata": {},
   "source": [
    "<div style=\"background:#222222; color:#ffffff; padding:20px\">\n",
    "  <h3 style=\"color:#01ff84; margin-top:4px\">Exercise 1:</h3>\n",
    "  <p>Now it's your turn to build a simple network, use any method I've covered so far. In the next notebook, you'll learn how to train a network so it can make good predictions.</p>\n",
    "  <p>Build a network to classify the MNIST images with 3 hidden layers. Use 400 units in the first hidden layer, 200 units in the second layer, and 100 units in the third layer. Each hidden layer should have a ReLU activation function, and use softmax on the output layer.</p>\n",
    "<div>"
   ]
  },
  {
   "cell_type": "code",
   "execution_count": 31,
   "metadata": {},
   "outputs": [
    {
     "data": {
      "text/plain": [
       "Sequential(\n",
       "  (0): Linear(in_features=784, out_features=400, bias=True)\n",
       "  (1): ReLU()\n",
       "  (2): Linear(in_features=400, out_features=200, bias=True)\n",
       "  (3): ReLU()\n",
       "  (4): Linear(in_features=200, out_features=100, bias=True)\n",
       "  (5): ReLU()\n",
       "  (6): Linear(in_features=100, out_features=10, bias=True)\n",
       "  (7): Softmax(dim=1)\n",
       ")"
      ]
     },
     "execution_count": 31,
     "metadata": {},
     "output_type": "execute_result"
    }
   ],
   "source": [
    "## TODO: Your network here\n",
    "input_size = 784\n",
    "\n",
    "model = nn.Sequential(nn.Linear(input_size, 400),\n",
    "                      nn.ReLU(),\n",
    "                      nn.Linear(400, 200),\n",
    "                      nn.ReLU(),\n",
    "                      nn.Linear(200, 100),\n",
    "                      nn.ReLU(),\n",
    "                      nn.Linear(100, 10),\n",
    "                      nn.Softmax(dim=1))\n",
    " \n",
    "model"
   ]
  },
  {
   "cell_type": "code",
   "execution_count": 33,
   "metadata": {},
   "outputs": [
    {
     "data": {
      "image/png": "[encoded data removed]",
      "text/plain": [
       "<Figure size 432x648 with 2 Axes>"
      ]
     },
     "metadata": {
      "image/png": {
       "height": 195,
       "width": 349
      },
      "needs_background": "light"
     },
     "output_type": "display_data"
    }
   ],
   "source": [
    "# Run this cell with your model to make sure it works\n",
    "# Forward pass through the network and display output\n",
    "images, labels = next(iter(trainloader))\n",
    "images.resize_(images.shape[0], 1, 784)\n",
    "ps = model.forward(images[0,:])\n",
    "view_classify(images[0].view(1, 28, 28), ps)"
   ]
  },
  {
   "cell_type": "markdown",
   "metadata": {},
   "source": [
    "<div style=\"background:#222222; color:#ffffff; padding:20px\">\n",
    "  <h3 style=\"color:#01ff84; margin-top:4px\">Exercise 2:</h3>\n",
    "  <p>Train your network implementing the Pytorch training loop and <strong style=\"color:#01ff84\">after each epoch, use the model for predicting the test (validation) MNIST data.</strong></p>\n",
    "  <p>Note: If your model does not fit with the final softmax layer, you can remove this layer.</p>\n",
    "  <p>Hint: <a href=\"https://discuss.pytorch.org/t/training-loop-checking-validation-accuracy/78399\">Training loop checking validation accuracy\n",
    "</a></p>\n",
    "  <p>Research about <code>model.train()</code>, <code>model.eval()</code> and <code>with torch.no_grad()</code> in Pytorch.\n",
    "<div>"
   ]
  },
  {
   "cell_type": "code",
   "execution_count": 61,
   "metadata": {},
   "outputs": [
    {
     "name": "stdout",
     "output_type": "stream",
     "text": [
      "Epoch: 1/3\n",
      "\tIteration: 0\t Train Loss: 0.0432\n",
      "\tIteration: 40\t Train Loss: 1.7352\n",
      "\tIteration: 80\t Train Loss: 1.7463\n",
      "\tIteration: 120\t Train Loss: 1.7305\n",
      "\tIteration: 160\t Train Loss: 1.7401\n",
      "\tIteration: 200\t Train Loss: 1.7439\n",
      "\tIteration: 240\t Train Loss: 1.7328\n",
      "\tIteration: 280\t Train Loss: 1.7329\n",
      "\tIteration: 320\t Train Loss: 1.7440\n",
      "\tIteration: 360\t Train Loss: 1.7369\n",
      "\tIteration: 400\t Train Loss: 1.7406\n",
      "\tIteration: 440\t Train Loss: 1.7410\n",
      "\tIteration: 480\t Train Loss: 1.7417\n",
      "\tIteration: 520\t Train Loss: 1.7494\n",
      "\tIteration: 560\t Train Loss: 1.7360\n",
      "\tIteration: 600\t Train Loss: 1.7287\n",
      "\tIteration: 640\t Train Loss: 1.7353\n",
      "\tIteration: 680\t Train Loss: 1.7422\n",
      "\tIteration: 720\t Train Loss: 1.7346\n",
      "\tIteration: 760\t Train Loss: 1.7344\n",
      "\tIteration: 800\t Train Loss: 1.7274\n",
      "\tIteration: 840\t Train Loss: 1.7496\n",
      "\tIteration: 880\t Train Loss: 1.7437\n",
      "\tIteration: 920\t Train Loss: 1.7419\n",
      "epoch 1 done: test accuracy of 0.7418\n",
      "Epoch: 2/3\n",
      "\tIteration: 0\t Train Loss: 0.0455\n",
      "\tIteration: 40\t Train Loss: 1.7370\n",
      "\tIteration: 80\t Train Loss: 1.7326\n",
      "\tIteration: 120\t Train Loss: 1.7419\n",
      "\tIteration: 160\t Train Loss: 1.7354\n",
      "\tIteration: 200\t Train Loss: 1.7299\n",
      "\tIteration: 240\t Train Loss: 1.7335\n",
      "\tIteration: 280\t Train Loss: 1.7489\n",
      "\tIteration: 320\t Train Loss: 1.7300\n",
      "\tIteration: 360\t Train Loss: 1.7455\n",
      "\tIteration: 400\t Train Loss: 1.7377\n",
      "\tIteration: 440\t Train Loss: 1.7416\n",
      "\tIteration: 480\t Train Loss: 1.7219\n",
      "\tIteration: 520\t Train Loss: 1.7321\n",
      "\tIteration: 560\t Train Loss: 1.7375\n",
      "\tIteration: 600\t Train Loss: 1.7344\n",
      "\tIteration: 640\t Train Loss: 1.7383\n",
      "\tIteration: 680\t Train Loss: 1.7347\n",
      "\tIteration: 720\t Train Loss: 1.7304\n",
      "\tIteration: 760\t Train Loss: 1.7315\n",
      "\tIteration: 800\t Train Loss: 1.7353\n",
      "\tIteration: 840\t Train Loss: 1.7440\n",
      "\tIteration: 880\t Train Loss: 1.7279\n",
      "\tIteration: 920\t Train Loss: 1.7257\n",
      "epoch 2 done: test accuracy of 0.743\n",
      "Epoch: 3/3\n",
      "\tIteration: 0\t Train Loss: 0.0418\n",
      "\tIteration: 40\t Train Loss: 1.7264\n",
      "\tIteration: 80\t Train Loss: 1.7252\n",
      "\tIteration: 120\t Train Loss: 1.7484\n",
      "\tIteration: 160\t Train Loss: 1.7386\n",
      "\tIteration: 200\t Train Loss: 1.7291\n",
      "\tIteration: 240\t Train Loss: 1.7289\n",
      "\tIteration: 280\t Train Loss: 1.7443\n",
      "\tIteration: 320\t Train Loss: 1.7379\n",
      "\tIteration: 360\t Train Loss: 1.7337\n",
      "\tIteration: 400\t Train Loss: 1.7213\n",
      "\tIteration: 440\t Train Loss: 1.7334\n",
      "\tIteration: 480\t Train Loss: 1.7231\n",
      "\tIteration: 520\t Train Loss: 1.7329\n",
      "\tIteration: 560\t Train Loss: 1.7380\n",
      "\tIteration: 600\t Train Loss: 1.7302\n",
      "\tIteration: 640\t Train Loss: 1.7181\n",
      "\tIteration: 680\t Train Loss: 1.7194\n",
      "\tIteration: 720\t Train Loss: 1.7237\n",
      "\tIteration: 760\t Train Loss: 1.7457\n",
      "\tIteration: 800\t Train Loss: 1.7334\n",
      "\tIteration: 840\t Train Loss: 1.7287\n",
      "\tIteration: 880\t Train Loss: 1.7329\n",
      "\tIteration: 920\t Train Loss: 1.7354\n",
      "epoch 3 done: test accuracy of 0.7461\n"
     ]
    }
   ],
   "source": [
    "## TODO: Your training loop here\n",
    "criterion = nn.CrossEntropyLoss()\n",
    "optimizer = optim.SGD(model.parameters(), lr=0.003)\n",
    "epochs = 3\n",
    "print_every = 40\n",
    "\n",
    "for e in range(epochs):\n",
    "    # running_loss = 0\n",
    "    print(f\"Epoch: {e+1}/{epochs}\")\n",
    "    train_correct_guess = 0\n",
    "    train_total = 0\n",
    "    train_loss = 0\n",
    "    \n",
    "    model.train()\n",
    "    for i, (images, labels) in enumerate(iter(trainloader)):\n",
    "\n",
    "        # Flatten MNIST images into a 784 long vector\n",
    "        images.resize_(images.size()[0], 784)\n",
    "        \n",
    "\n",
    "        optimizer.zero_grad()\n",
    "        output = model.forward(images)   # 1) Forward pass\n",
    "        loss = criterion(output, labels) # 2) Compute loss\n",
    "        loss.backward()                  # 3) Backward pass\n",
    "        optimizer.step()                 # 4) Update model\n",
    "\n",
    "        train_loss += loss.item()\n",
    "\n",
    "\n",
    "        if i % print_every == 0:\n",
    "            print(f\"\\tIteration: {i}\\t Train Loss: {train_loss/print_every:.4f}\")\n",
    "            train_loss = 0       \n",
    "    \n",
    "    model.eval()\n",
    "    with torch.no_grad():\n",
    "        correct_guess = 0\n",
    "        total = 0\n",
    "        test_loss = 0\n",
    "        for i, (images, labels) in enumerate(iter(testloader)):\n",
    "            images.resize_(images.size()[0], 784)\n",
    "            test_output = model.forward(images)\n",
    "            #loss_test = criterion(test_output, labels)\n",
    "            pred_y = torch.max(test_output, 1)[1].data.squeeze()\n",
    "            correct_guess += (pred_y == labels).float().sum().item()\n",
    "            total += len(labels)\n",
    "            #accuracy = (pred_y == labels).sum().item() / float(labels.size(0))\n",
    "    print(f'epoch {e+1} done: test accuracy of {(correct_guess/total)}')\n",
    "    "
   ]
  },
  {
   "cell_type": "code",
   "execution_count": 64,
   "metadata": {},
   "outputs": [
    {
     "data": {
      "image/png": "[encoded data removed]",
      "text/plain": [
       "<Figure size 432x648 with 2 Axes>"
      ]
     },
     "metadata": {
      "image/png": {
       "height": 195,
       "width": 349
      },
      "needs_background": "light"
     },
     "output_type": "display_data"
    }
   ],
   "source": [
    "# Run this cell with your model to make sure it works and predicts well for the validation data\n",
    "images, labels = next(iter(testloader))\n",
    "images.resize_(images.shape[0], 1, 784)\n",
    "ps = model.forward(images[0,:])\n",
    "view_classify(images[0].view(1, 28, 28), ps)"
   ]
  },
  {
   "cell_type": "markdown",
   "metadata": {},
   "source": [
    "<div style=\"background:#222222; color:#ffffff; padding:20px\">\n",
    "  <h3 style=\"color:#01ff84; margin-top:4px\">Exercise 3:</h3>\n",
    "  <p>Write the code for adding <strong style=\"color:#01ff84\">Early Stopping with patience = 2</strong> to the training loop from scratch.</p>\n",
    "  <p><strong style=\"color:#01ff84\">Hint:</strong> Monitor the Validation loss every epoch, and if in 2 epochs, the validation loss does not improve, stop the training loop with <code>break</code>.</p>\n",
    "<div>"
   ]
  },
  {
   "cell_type": "code",
   "execution_count": 67,
   "metadata": {},
   "outputs": [
    {
     "name": "stdout",
     "output_type": "stream",
     "text": [
      "Epoch: 1/5\n",
      "\tIteration: 0\t Train Loss: 0.0431\n",
      "\tIteration: 40\t Train Loss: 1.7365\n",
      "\tIteration: 80\t Train Loss: 1.7422\n",
      "\tIteration: 120\t Train Loss: 1.7171\n",
      "\tIteration: 160\t Train Loss: 1.7382\n",
      "\tIteration: 200\t Train Loss: 1.7223\n",
      "\tIteration: 240\t Train Loss: 1.7272\n",
      "\tIteration: 280\t Train Loss: 1.7421\n",
      "\tIteration: 320\t Train Loss: 1.7321\n",
      "\tIteration: 360\t Train Loss: 1.7294\n",
      "\tIteration: 400\t Train Loss: 1.7143\n",
      "\tIteration: 440\t Train Loss: 1.7316\n",
      "\tIteration: 480\t Train Loss: 1.7411\n",
      "\tIteration: 520\t Train Loss: 1.7324\n",
      "\tIteration: 560\t Train Loss: 1.7349\n",
      "\tIteration: 600\t Train Loss: 1.7152\n",
      "\tIteration: 640\t Train Loss: 1.7326\n",
      "\tIteration: 680\t Train Loss: 1.7162\n",
      "\tIteration: 720\t Train Loss: 1.7294\n",
      "\tIteration: 760\t Train Loss: 1.7278\n",
      "\tIteration: 800\t Train Loss: 1.7212\n",
      "\tIteration: 840\t Train Loss: 1.7240\n",
      "\tIteration: 880\t Train Loss: 1.7295\n",
      "\tIteration: 920\t Train Loss: 1.7222\n",
      "epoch 1 done: test accuracy of 0.7472\n",
      "Validation loss: 270.3596496582031\n",
      "Epoch: 2/5\n",
      "\tIteration: 0\t Train Loss: 0.0440\n",
      "\tIteration: 40\t Train Loss: 1.7237\n",
      "\tIteration: 80\t Train Loss: 1.7094\n",
      "\tIteration: 120\t Train Loss: 1.7438\n",
      "\tIteration: 160\t Train Loss: 1.7264\n",
      "\tIteration: 200\t Train Loss: 1.7216\n",
      "\tIteration: 240\t Train Loss: 1.7230\n",
      "\tIteration: 280\t Train Loss: 1.7221\n",
      "\tIteration: 320\t Train Loss: 1.7124\n",
      "\tIteration: 360\t Train Loss: 1.7310\n",
      "\tIteration: 400\t Train Loss: 1.7242\n",
      "\tIteration: 440\t Train Loss: 1.7294\n",
      "\tIteration: 480\t Train Loss: 1.7411\n",
      "\tIteration: 520\t Train Loss: 1.7220\n",
      "\tIteration: 560\t Train Loss: 1.7294\n",
      "\tIteration: 600\t Train Loss: 1.7263\n",
      "\tIteration: 640\t Train Loss: 1.7231\n",
      "\tIteration: 680\t Train Loss: 1.7395\n",
      "\tIteration: 720\t Train Loss: 1.7151\n",
      "\tIteration: 760\t Train Loss: 1.7169\n",
      "\tIteration: 800\t Train Loss: 1.7371\n",
      "\tIteration: 840\t Train Loss: 1.7286\n",
      "\tIteration: 880\t Train Loss: 1.7316\n",
      "\tIteration: 920\t Train Loss: 1.7265\n",
      "epoch 2 done: test accuracy of 0.7463\n",
      "Validation loss: 269.9646911621094\n",
      "Epoch: 3/5\n",
      "\tIteration: 0\t Train Loss: 0.0414\n",
      "\tIteration: 40\t Train Loss: 1.7229\n",
      "\tIteration: 80\t Train Loss: 1.7331\n",
      "\tIteration: 120\t Train Loss: 1.7222\n",
      "\tIteration: 160\t Train Loss: 1.7315\n",
      "\tIteration: 200\t Train Loss: 1.7164\n",
      "\tIteration: 240\t Train Loss: 1.7142\n",
      "\tIteration: 280\t Train Loss: 1.7148\n",
      "\tIteration: 320\t Train Loss: 1.7204\n",
      "\tIteration: 360\t Train Loss: 1.7263\n",
      "\tIteration: 400\t Train Loss: 1.7261\n",
      "\tIteration: 440\t Train Loss: 1.7237\n",
      "\tIteration: 480\t Train Loss: 1.7243\n",
      "\tIteration: 520\t Train Loss: 1.7460\n",
      "\tIteration: 560\t Train Loss: 1.7297\n",
      "\tIteration: 600\t Train Loss: 1.7283\n",
      "\tIteration: 640\t Train Loss: 1.7368\n",
      "\tIteration: 680\t Train Loss: 1.7254\n",
      "\tIteration: 720\t Train Loss: 1.7177\n",
      "\tIteration: 760\t Train Loss: 1.7239\n",
      "\tIteration: 800\t Train Loss: 1.7267\n",
      "\tIteration: 840\t Train Loss: 1.7207\n",
      "\tIteration: 880\t Train Loss: 1.7086\n",
      "\tIteration: 920\t Train Loss: 1.7165\n",
      "epoch 3 done: test accuracy of 0.75\n",
      "Validation loss: 269.7707824707031\n",
      "Epoch: 4/5\n",
      "\tIteration: 0\t Train Loss: 0.0437\n",
      "\tIteration: 40\t Train Loss: 1.7256\n",
      "\tIteration: 80\t Train Loss: 1.7265\n",
      "\tIteration: 120\t Train Loss: 1.7225\n",
      "\tIteration: 160\t Train Loss: 1.7171\n",
      "\tIteration: 200\t Train Loss: 1.7370\n",
      "\tIteration: 240\t Train Loss: 1.7245\n",
      "\tIteration: 280\t Train Loss: 1.7314\n",
      "\tIteration: 320\t Train Loss: 1.7150\n",
      "\tIteration: 360\t Train Loss: 1.7247\n",
      "\tIteration: 400\t Train Loss: 1.7172\n",
      "\tIteration: 440\t Train Loss: 1.7165\n",
      "\tIteration: 480\t Train Loss: 1.7163\n",
      "\tIteration: 520\t Train Loss: 1.7224\n",
      "\tIteration: 560\t Train Loss: 1.7210\n",
      "\tIteration: 600\t Train Loss: 1.7208\n",
      "\tIteration: 640\t Train Loss: 1.7285\n",
      "\tIteration: 680\t Train Loss: 1.7121\n",
      "\tIteration: 720\t Train Loss: 1.7189\n",
      "\tIteration: 760\t Train Loss: 1.7322\n",
      "\tIteration: 800\t Train Loss: 1.7222\n",
      "\tIteration: 840\t Train Loss: 1.7224\n",
      "\tIteration: 880\t Train Loss: 1.7085\n",
      "\tIteration: 920\t Train Loss: 1.7190\n",
      "epoch 4 done: test accuracy of 0.7507\n",
      "Validation loss: 269.4453125\n",
      "Epoch: 5/5\n",
      "\tIteration: 0\t Train Loss: 0.0417\n",
      "\tIteration: 40\t Train Loss: 1.7232\n",
      "\tIteration: 80\t Train Loss: 1.7160\n",
      "\tIteration: 120\t Train Loss: 1.7260\n",
      "\tIteration: 160\t Train Loss: 1.7128\n",
      "\tIteration: 200\t Train Loss: 1.7188\n",
      "\tIteration: 240\t Train Loss: 1.7286\n",
      "\tIteration: 280\t Train Loss: 1.7244\n",
      "\tIteration: 320\t Train Loss: 1.7138\n",
      "\tIteration: 360\t Train Loss: 1.7254\n",
      "\tIteration: 400\t Train Loss: 1.7212\n",
      "\tIteration: 440\t Train Loss: 1.7112\n",
      "\tIteration: 480\t Train Loss: 1.7241\n",
      "\tIteration: 520\t Train Loss: 1.7289\n",
      "\tIteration: 560\t Train Loss: 1.7270\n",
      "\tIteration: 600\t Train Loss: 1.7119\n",
      "\tIteration: 640\t Train Loss: 1.7177\n",
      "\tIteration: 680\t Train Loss: 1.7235\n",
      "\tIteration: 720\t Train Loss: 1.7273\n",
      "\tIteration: 760\t Train Loss: 1.7124\n",
      "\tIteration: 800\t Train Loss: 1.7127\n",
      "\tIteration: 840\t Train Loss: 1.7178\n",
      "\tIteration: 880\t Train Loss: 1.7198\n",
      "\tIteration: 920\t Train Loss: 1.7199\n",
      "epoch 5 done: test accuracy of 0.7519\n",
      "Validation loss: 269.0324401855469\n"
     ]
    }
   ],
   "source": [
    "## TODO: Your training loop here\n",
    "best_validation_loss = np.inf\n",
    "criterion = nn.CrossEntropyLoss()\n",
    "optimizer = optim.SGD(model.parameters(), lr=0.003)\n",
    "epochs = 5\n",
    "print_every = 40\n",
    "\n",
    "for e in range(epochs):\n",
    "    # running_loss = 0\n",
    "    print(f\"Epoch: {e+1}/{epochs}\")\n",
    "    train_loss = 0\n",
    "    validation_loss = 0\n",
    "    correct_guess = 0\n",
    "    total = 0   \n",
    "    \n",
    "    model.train()\n",
    "    for i, (images, labels) in enumerate(iter(trainloader)):\n",
    "\n",
    "        # Flatten MNIST images into a 784 long vector\n",
    "        images.resize_(images.size()[0], 784)\n",
    "        \n",
    "\n",
    "        optimizer.zero_grad()\n",
    "        output = model.forward(images)   # 1) Forward pass\n",
    "        loss = criterion(output, labels) # 2) Compute loss\n",
    "        loss.backward()                  # 3) Backward pass\n",
    "        optimizer.step()                 # 4) Update model\n",
    "\n",
    "        train_loss += loss.item()\n",
    "\n",
    "\n",
    "        if i % print_every == 0:\n",
    "            print(f\"\\tIteration: {i}\\t Train Loss: {train_loss/print_every:.4f}\")\n",
    "            train_loss = 0       \n",
    "    \n",
    "    model.eval()\n",
    "    with torch.no_grad():\n",
    "        for i, (images, labels) in enumerate(iter(testloader)):\n",
    "            images.resize_(images.size()[0], 784)\n",
    "            test_output = model.forward(images)\n",
    "            validation_loss += criterion(test_output, labels)\n",
    "            pred_y = torch.max(test_output, 1)[1].data.squeeze()\n",
    "            correct_guess += (pred_y == labels).float().sum().item()\n",
    "            total += len(labels)\n",
    "            #accuracy = (pred_y == labels).sum().item() / float(labels.size(0))\n",
    "    print(f'epoch {e+1} done: test accuracy of {(correct_guess/total)}')\n",
    "\n",
    "    print(f'Validation loss: {validation_loss}')\n",
    "\n",
    "    if best_validation_loss > validation_loss:\n",
    "        best_validation_loss = validation_loss\n",
    "        torch.save(model.state_dict(), 'model_mnist.pth')\n",
    "    else:\n",
    "        break\n"
   ]
  }
 ],
 "metadata": {
  "kernelspec": {
   "display_name": "Python 3",
   "language": "python",
   "name": "python3"
  },
  "language_info": {
   "codemirror_mode": {
    "name": "ipython",
    "version": 3
   },
   "file_extension": ".py",
   "mimetype": "text/x-python",
   "name": "python",
   "nbconvert_exporter": "python",
   "pygments_lexer": "ipython3",
   "version": "3.9.7"
  }
 },
 "nbformat": 4,
 "nbformat_minor": 2
}
