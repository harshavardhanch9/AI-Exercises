{
 "cells": [
  {
   "cell_type": "markdown",
   "metadata": {},
   "source": [
    "## Imports"
   ]
  },
  {
   "cell_type": "code",
   "execution_count": 1,
   "metadata": {
    "colab": {},
    "colab_type": "code",
    "id": "mjnuJ19dJV7v"
   },
   "outputs": [
    {
     "name": "stdout",
     "output_type": "stream",
     "text": [
      "Pandas   1.3.3\n",
      "Sklearn  0.24.2\n"
     ]
    }
   ],
   "source": [
    "import numpy    as np\n",
    "import pandas   as pd\n",
    "import seaborn  as sb\n",
    "import matplotlib.pyplot as plt\n",
    "import sklearn  as skl\n",
    "\n",
    "from sklearn import pipeline      # Pipeline\n",
    "from sklearn import preprocessing # OrdinalEncoder, LabelEncoder\n",
    "from sklearn import impute\n",
    "from sklearn import compose\n",
    "from sklearn import model_selection # train_test_split\n",
    "from sklearn import metrics         # accuracy_score, balanced_accuracy_score, plot_confusion_matrix\n",
    "from sklearn import linear_model    # LogisticRegression\n",
    "from sklearn import set_config\n",
    "\n",
    "set_config(display='diagram') # Useful for display the pipeline\n",
    "\n",
    "print(\"Pandas  \", pd.__version__)\n",
    "print(\"Sklearn \", skl.__version__)"
   ]
  },
  {
   "cell_type": "markdown",
   "metadata": {},
   "source": [
    "## Get the dataset\n",
    "- **CLOUD = True**: Download dataset from Kaggle. Necesary for cloud enviroments like COLAB. **Specify your [kaggle credentials](https://www.kaggle.com/docs/api)**.\n",
    "- **CLOUD = False**: Get the dataset from your local machine. **Specify the data path**."
   ]
  },
  {
   "cell_type": "code",
   "execution_count": 14,
   "metadata": {},
   "outputs": [],
   "source": [
    "CLOUD = False\n",
    "\n",
    "if CLOUD:\n",
    "    import os\n",
    "    os.environ['KAGGLE_USERNAME'] = \"your_kaggle_username\"\n",
    "    os.environ['KAGGLE_KEY']      = \"your_kaggle_api_key\"  # See https://www.kaggle.com/docs/api\n",
    "    !pip install --upgrade kaggle\n",
    "    !kaggle competitions download -c titanic\n",
    "    DATA_PATH = \"./\"\n",
    "\n",
    "else:\n",
    "    DATA_PATH = \"../10. Robust ML/\"\n"
   ]
  },
  {
   "cell_type": "markdown",
   "metadata": {},
   "source": [
    "## Load data"
   ]
  },
  {
   "cell_type": "code",
   "execution_count": 15,
   "metadata": {
    "colab": {},
    "colab_type": "code",
    "id": "wAy8TnVPJV8S"
   },
   "outputs": [
    {
     "name": "stdout",
     "output_type": "stream",
     "text": [
      "Train DataFrame: (891, 11)\n",
      "Test DataFrame:  (418, 10)\n"
     ]
    },
    {
     "data": {
      "text/html": [
       "<div>\n",
       "<style scoped>\n",
       "    .dataframe tbody tr th:only-of-type {\n",
       "        vertical-align: middle;\n",
       "    }\n",
       "\n",
       "    .dataframe tbody tr th {\n",
       "        vertical-align: top;\n",
       "    }\n",
       "\n",
       "    .dataframe thead th {\n",
       "        text-align: right;\n",
       "    }\n",
       "</style>\n",
       "<table border=\"1\" class=\"dataframe\">\n",
       "  <thead>\n",
       "    <tr style=\"text-align: right;\">\n",
       "      <th></th>\n",
       "      <th>Survived</th>\n",
       "      <th>Pclass</th>\n",
       "      <th>Name</th>\n",
       "      <th>Sex</th>\n",
       "      <th>Age</th>\n",
       "      <th>SibSp</th>\n",
       "      <th>Parch</th>\n",
       "      <th>Ticket</th>\n",
       "      <th>Fare</th>\n",
       "      <th>Cabin</th>\n",
       "      <th>Embarked</th>\n",
       "    </tr>\n",
       "    <tr>\n",
       "      <th>PassengerId</th>\n",
       "      <th></th>\n",
       "      <th></th>\n",
       "      <th></th>\n",
       "      <th></th>\n",
       "      <th></th>\n",
       "      <th></th>\n",
       "      <th></th>\n",
       "      <th></th>\n",
       "      <th></th>\n",
       "      <th></th>\n",
       "      <th></th>\n",
       "    </tr>\n",
       "  </thead>\n",
       "  <tbody>\n",
       "    <tr>\n",
       "      <th>1</th>\n",
       "      <td>0</td>\n",
       "      <td>3</td>\n",
       "      <td>Braund, Mr. Owen Harris</td>\n",
       "      <td>male</td>\n",
       "      <td>22.0</td>\n",
       "      <td>1</td>\n",
       "      <td>0</td>\n",
       "      <td>A/5 21171</td>\n",
       "      <td>7.2500</td>\n",
       "      <td>NaN</td>\n",
       "      <td>S</td>\n",
       "    </tr>\n",
       "    <tr>\n",
       "      <th>2</th>\n",
       "      <td>1</td>\n",
       "      <td>1</td>\n",
       "      <td>Cumings, Mrs. John Bradley (Florence Briggs Th...</td>\n",
       "      <td>female</td>\n",
       "      <td>38.0</td>\n",
       "      <td>1</td>\n",
       "      <td>0</td>\n",
       "      <td>PC 17599</td>\n",
       "      <td>71.2833</td>\n",
       "      <td>C85</td>\n",
       "      <td>C</td>\n",
       "    </tr>\n",
       "    <tr>\n",
       "      <th>3</th>\n",
       "      <td>1</td>\n",
       "      <td>3</td>\n",
       "      <td>Heikkinen, Miss. Laina</td>\n",
       "      <td>female</td>\n",
       "      <td>26.0</td>\n",
       "      <td>0</td>\n",
       "      <td>0</td>\n",
       "      <td>STON/O2. 3101282</td>\n",
       "      <td>7.9250</td>\n",
       "      <td>NaN</td>\n",
       "      <td>S</td>\n",
       "    </tr>\n",
       "    <tr>\n",
       "      <th>4</th>\n",
       "      <td>1</td>\n",
       "      <td>1</td>\n",
       "      <td>Futrelle, Mrs. Jacques Heath (Lily May Peel)</td>\n",
       "      <td>female</td>\n",
       "      <td>35.0</td>\n",
       "      <td>1</td>\n",
       "      <td>0</td>\n",
       "      <td>113803</td>\n",
       "      <td>53.1000</td>\n",
       "      <td>C123</td>\n",
       "      <td>S</td>\n",
       "    </tr>\n",
       "    <tr>\n",
       "      <th>5</th>\n",
       "      <td>0</td>\n",
       "      <td>3</td>\n",
       "      <td>Allen, Mr. William Henry</td>\n",
       "      <td>male</td>\n",
       "      <td>35.0</td>\n",
       "      <td>0</td>\n",
       "      <td>0</td>\n",
       "      <td>373450</td>\n",
       "      <td>8.0500</td>\n",
       "      <td>NaN</td>\n",
       "      <td>S</td>\n",
       "    </tr>\n",
       "  </tbody>\n",
       "</table>\n",
       "</div>"
      ],
      "text/plain": [
       "             Survived  Pclass  \\\n",
       "PassengerId                     \n",
       "1                   0       3   \n",
       "2                   1       1   \n",
       "3                   1       3   \n",
       "4                   1       1   \n",
       "5                   0       3   \n",
       "\n",
       "                                                          Name     Sex   Age  \\\n",
       "PassengerId                                                                    \n",
       "1                                      Braund, Mr. Owen Harris    male  22.0   \n",
       "2            Cumings, Mrs. John Bradley (Florence Briggs Th...  female  38.0   \n",
       "3                                       Heikkinen, Miss. Laina  female  26.0   \n",
       "4                 Futrelle, Mrs. Jacques Heath (Lily May Peel)  female  35.0   \n",
       "5                                     Allen, Mr. William Henry    male  35.0   \n",
       "\n",
       "             SibSp  Parch            Ticket     Fare Cabin Embarked  \n",
       "PassengerId                                                          \n",
       "1                1      0         A/5 21171   7.2500   NaN        S  \n",
       "2                1      0          PC 17599  71.2833   C85        C  \n",
       "3                0      0  STON/O2. 3101282   7.9250   NaN        S  \n",
       "4                1      0            113803  53.1000  C123        S  \n",
       "5                0      0            373450   8.0500   NaN        S  "
      ]
     },
     "execution_count": 15,
     "metadata": {},
     "output_type": "execute_result"
    }
   ],
   "source": [
    "df      = pd.read_csv(DATA_PATH + \"train.csv\", index_col='PassengerId')\n",
    "df_test = pd.read_csv(DATA_PATH + \"test.csv\",  index_col='PassengerId')\n",
    "\n",
    "print(\"Train DataFrame:\", df.shape)\n",
    "print(\"Test DataFrame: \", df_test.shape)\n",
    "df.head(5)"
   ]
  },
  {
   "cell_type": "markdown",
   "metadata": {},
   "source": [
    "## Check missings"
   ]
  },
  {
   "cell_type": "code",
   "execution_count": 16,
   "metadata": {},
   "outputs": [
    {
     "data": {
      "text/plain": [
       "Survived    0.000000\n",
       "Pclass      0.000000\n",
       "Name        0.000000\n",
       "Sex         0.000000\n",
       "Age         0.198653\n",
       "SibSp       0.000000\n",
       "Parch       0.000000\n",
       "Ticket      0.000000\n",
       "Fare        0.000000\n",
       "Cabin       0.771044\n",
       "Embarked    0.002245\n",
       "dtype: float64"
      ]
     },
     "execution_count": 16,
     "metadata": {},
     "output_type": "execute_result"
    }
   ],
   "source": [
    "df.isnull().sum() / len(df)"
   ]
  },
  {
   "cell_type": "code",
   "execution_count": 17,
   "metadata": {},
   "outputs": [
    {
     "data": {
      "text/plain": [
       "Pclass      0.000000\n",
       "Name        0.000000\n",
       "Sex         0.000000\n",
       "Age         0.205742\n",
       "SibSp       0.000000\n",
       "Parch       0.000000\n",
       "Ticket      0.000000\n",
       "Fare        0.002392\n",
       "Cabin       0.782297\n",
       "Embarked    0.000000\n",
       "dtype: float64"
      ]
     },
     "execution_count": 17,
     "metadata": {},
     "output_type": "execute_result"
    }
   ],
   "source": [
    "df_test.isna().sum() / len(df_test) # Fare has Missings only in TEST !!!"
   ]
  },
  {
   "cell_type": "markdown",
   "metadata": {},
   "source": [
    "# Preprocessing\n",
    "For X data:\n",
    "- We drop Survived because is the target variable\n",
    "- We drop Name for simplicity. (We could extract Mr, Mrs, ...)\n",
    "- We drop Ticket because it has no information -> see df.Ticket.nunique()\n",
    "- We drop Cabin because it has a lot of missings (77% are missings)\n",
    "\n",
    "Then, we identify **numerical** variables and **categorical** variables,"
   ]
  },
  {
   "cell_type": "code",
   "execution_count": 18,
   "metadata": {},
   "outputs": [],
   "source": [
    "x = df.drop(columns=[\"Survived\", 'Name', 'Ticket', 'Cabin']) # X DATA (WILL BE TRAIN+VALID DATA)\n",
    "y = df[\"Survived\"] # 0 = No, 1 = Yes\n",
    "\n",
    "x_test = df_test.drop(columns=['Name', 'Ticket', 'Cabin']) # # X_TEST DATA (NEW DATA)"
   ]
  },
  {
   "cell_type": "markdown",
   "metadata": {},
   "source": [
    "# Validation Strategy\n",
    "\n",
    "Simple split:\n",
    "- 80% for train\n",
    "- 20% for validation"
   ]
  },
  {
   "cell_type": "code",
   "execution_count": 19,
   "metadata": {
    "colab": {
     "base_uri": "https://localhost:8080/",
     "height": 173
    },
    "colab_type": "code",
    "id": "kY1uWk6-OcLw",
    "outputId": "3562463f-3197-424c-dc82-b07ad579e9cc"
   },
   "outputs": [],
   "source": [
    "x_train, x_val, y_train, y_val = model_selection.train_test_split(\n",
    "    x, y,\n",
    "    test_size=0.2,\n",
    "    stratify = y,   # ALWAYS RECOMMENDED FOR BETTER VALIDATION\n",
    "    random_state=4  # Recommended for reproducibility\n",
    ")"
   ]
  },
  {
   "cell_type": "markdown",
   "metadata": {},
   "source": [
    "# Prepro"
   ]
  },
  {
   "cell_type": "code",
   "execution_count": 20,
   "metadata": {},
   "outputs": [
    {
     "name": "stdout",
     "output_type": "stream",
     "text": [
      "\n",
      "Numerical features:\n",
      " ['Pclass', 'Age', 'SibSp', 'Parch', 'Fare']\n",
      "\n",
      "Categorical features:\n",
      " ['Sex', 'Embarked']\n"
     ]
    }
   ],
   "source": [
    "cat_vars  = ['Sex', 'Embarked']\n",
    "num_vars  = ['Pclass', 'Age', 'SibSp', 'Parch', 'Fare']\n",
    "\n",
    "print(\"\\nNumerical features:\\n\", num_vars)\n",
    "print(\"\\nCategorical features:\\n\", cat_vars)"
   ]
  },
  {
   "cell_type": "code",
   "execution_count": 9,
   "metadata": {},
   "outputs": [],
   "source": [
    "#x.isnull().sum()"
   ]
  },
  {
   "cell_type": "code",
   "execution_count": 10,
   "metadata": {},
   "outputs": [],
   "source": [
    "#x_test.isnull().sum()"
   ]
  },
  {
   "cell_type": "code",
   "execution_count": 21,
   "metadata": {},
   "outputs": [
    {
     "data": {
      "text/html": [
       "<style>#sk-6ff9a72a-0800-49ed-98c8-c50858cef683 {color: black;background-color: white;}#sk-6ff9a72a-0800-49ed-98c8-c50858cef683 pre{padding: 0;}#sk-6ff9a72a-0800-49ed-98c8-c50858cef683 div.sk-toggleable {background-color: white;}#sk-6ff9a72a-0800-49ed-98c8-c50858cef683 label.sk-toggleable__label {cursor: pointer;display: block;width: 100%;margin-bottom: 0;padding: 0.2em 0.3em;box-sizing: border-box;text-align: center;}#sk-6ff9a72a-0800-49ed-98c8-c50858cef683 div.sk-toggleable__content {max-height: 0;max-width: 0;overflow: hidden;text-align: left;background-color: #f0f8ff;}#sk-6ff9a72a-0800-49ed-98c8-c50858cef683 div.sk-toggleable__content pre {margin: 0.2em;color: black;border-radius: 0.25em;background-color: #f0f8ff;}#sk-6ff9a72a-0800-49ed-98c8-c50858cef683 input.sk-toggleable__control:checked~div.sk-toggleable__content {max-height: 200px;max-width: 100%;overflow: auto;}#sk-6ff9a72a-0800-49ed-98c8-c50858cef683 div.sk-estimator input.sk-toggleable__control:checked~label.sk-toggleable__label {background-color: #d4ebff;}#sk-6ff9a72a-0800-49ed-98c8-c50858cef683 div.sk-label input.sk-toggleable__control:checked~label.sk-toggleable__label {background-color: #d4ebff;}#sk-6ff9a72a-0800-49ed-98c8-c50858cef683 input.sk-hidden--visually {border: 0;clip: rect(1px 1px 1px 1px);clip: rect(1px, 1px, 1px, 1px);height: 1px;margin: -1px;overflow: hidden;padding: 0;position: absolute;width: 1px;}#sk-6ff9a72a-0800-49ed-98c8-c50858cef683 div.sk-estimator {font-family: monospace;background-color: #f0f8ff;margin: 0.25em 0.25em;border: 1px dotted black;border-radius: 0.25em;box-sizing: border-box;}#sk-6ff9a72a-0800-49ed-98c8-c50858cef683 div.sk-estimator:hover {background-color: #d4ebff;}#sk-6ff9a72a-0800-49ed-98c8-c50858cef683 div.sk-parallel-item::after {content: \"\";width: 100%;border-bottom: 1px solid gray;flex-grow: 1;}#sk-6ff9a72a-0800-49ed-98c8-c50858cef683 div.sk-label:hover label.sk-toggleable__label {background-color: #d4ebff;}#sk-6ff9a72a-0800-49ed-98c8-c50858cef683 div.sk-serial::before {content: \"\";position: absolute;border-left: 1px solid gray;box-sizing: border-box;top: 2em;bottom: 0;left: 50%;}#sk-6ff9a72a-0800-49ed-98c8-c50858cef683 div.sk-serial {display: flex;flex-direction: column;align-items: center;background-color: white;}#sk-6ff9a72a-0800-49ed-98c8-c50858cef683 div.sk-item {z-index: 1;}#sk-6ff9a72a-0800-49ed-98c8-c50858cef683 div.sk-parallel {display: flex;align-items: stretch;justify-content: center;background-color: white;}#sk-6ff9a72a-0800-49ed-98c8-c50858cef683 div.sk-parallel-item {display: flex;flex-direction: column;position: relative;background-color: white;}#sk-6ff9a72a-0800-49ed-98c8-c50858cef683 div.sk-parallel-item:first-child::after {align-self: flex-end;width: 50%;}#sk-6ff9a72a-0800-49ed-98c8-c50858cef683 div.sk-parallel-item:last-child::after {align-self: flex-start;width: 50%;}#sk-6ff9a72a-0800-49ed-98c8-c50858cef683 div.sk-parallel-item:only-child::after {width: 0;}#sk-6ff9a72a-0800-49ed-98c8-c50858cef683 div.sk-dashed-wrapped {border: 1px dashed gray;margin: 0.2em;box-sizing: border-box;padding-bottom: 0.1em;background-color: white;position: relative;}#sk-6ff9a72a-0800-49ed-98c8-c50858cef683 div.sk-label label {font-family: monospace;font-weight: bold;background-color: white;display: inline-block;line-height: 1.2em;}#sk-6ff9a72a-0800-49ed-98c8-c50858cef683 div.sk-label-container {position: relative;z-index: 2;text-align: center;}#sk-6ff9a72a-0800-49ed-98c8-c50858cef683 div.sk-container {display: inline-block;position: relative;}</style><div id=\"sk-6ff9a72a-0800-49ed-98c8-c50858cef683\" class\"sk-top-container\"><div class=\"sk-container\"><div class=\"sk-item sk-dashed-wrapped\"><div class=\"sk-label-container\"><div class=\"sk-label sk-toggleable\"><input class=\"sk-toggleable__control sk-hidden--visually\" id=\"b847b3ba-ef21-4745-b350-f951cfc298ba\" type=\"checkbox\" ><label class=\"sk-toggleable__label\" for=\"b847b3ba-ef21-4745-b350-f951cfc298ba\">ColumnTransformer</label><div class=\"sk-toggleable__content\"><pre>ColumnTransformer(transformers=[('num',\n",
       "                                 Pipeline(steps=[('imputer', SimpleImputer()),\n",
       "                                                 ('scaler', StandardScaler())]),\n",
       "                                 ['Pclass', 'Age', 'SibSp', 'Parch', 'Fare']),\n",
       "                                ('cat',\n",
       "                                 Pipeline(steps=[('imputer',\n",
       "                                                  SimpleImputer(fill_value='missing',\n",
       "                                                                strategy='constant')),\n",
       "                                                 ('onehot',\n",
       "                                                  OneHotEncoder(handle_unknown='ignore'))]),\n",
       "                                 ['Sex', 'Embarked'])])</pre></div></div></div><div class=\"sk-parallel\"><div class=\"sk-parallel-item\"><div class=\"sk-item\"><div class=\"sk-label-container\"><div class=\"sk-label sk-toggleable\"><input class=\"sk-toggleable__control sk-hidden--visually\" id=\"dae660fc-781f-4c45-bd3d-c3393e6daeaa\" type=\"checkbox\" ><label class=\"sk-toggleable__label\" for=\"dae660fc-781f-4c45-bd3d-c3393e6daeaa\">num</label><div class=\"sk-toggleable__content\"><pre>['Pclass', 'Age', 'SibSp', 'Parch', 'Fare']</pre></div></div></div><div class=\"sk-serial\"><div class=\"sk-item\"><div class=\"sk-serial\"><div class=\"sk-item\"><div class=\"sk-estimator sk-toggleable\"><input class=\"sk-toggleable__control sk-hidden--visually\" id=\"915e7c24-67a3-4586-ba22-d62b5a70c6d9\" type=\"checkbox\" ><label class=\"sk-toggleable__label\" for=\"915e7c24-67a3-4586-ba22-d62b5a70c6d9\">SimpleImputer</label><div class=\"sk-toggleable__content\"><pre>SimpleImputer()</pre></div></div></div><div class=\"sk-item\"><div class=\"sk-estimator sk-toggleable\"><input class=\"sk-toggleable__control sk-hidden--visually\" id=\"3ed374fd-60c2-4853-954a-2258599a8bf4\" type=\"checkbox\" ><label class=\"sk-toggleable__label\" for=\"3ed374fd-60c2-4853-954a-2258599a8bf4\">StandardScaler</label><div class=\"sk-toggleable__content\"><pre>StandardScaler()</pre></div></div></div></div></div></div></div></div><div class=\"sk-parallel-item\"><div class=\"sk-item\"><div class=\"sk-label-container\"><div class=\"sk-label sk-toggleable\"><input class=\"sk-toggleable__control sk-hidden--visually\" id=\"d74e40f9-8dc4-4ae5-810a-326003938031\" type=\"checkbox\" ><label class=\"sk-toggleable__label\" for=\"d74e40f9-8dc4-4ae5-810a-326003938031\">cat</label><div class=\"sk-toggleable__content\"><pre>['Sex', 'Embarked']</pre></div></div></div><div class=\"sk-serial\"><div class=\"sk-item\"><div class=\"sk-serial\"><div class=\"sk-item\"><div class=\"sk-estimator sk-toggleable\"><input class=\"sk-toggleable__control sk-hidden--visually\" id=\"e0051ab0-fb4e-47bb-aba8-8679bb134797\" type=\"checkbox\" ><label class=\"sk-toggleable__label\" for=\"e0051ab0-fb4e-47bb-aba8-8679bb134797\">SimpleImputer</label><div class=\"sk-toggleable__content\"><pre>SimpleImputer(fill_value='missing', strategy='constant')</pre></div></div></div><div class=\"sk-item\"><div class=\"sk-estimator sk-toggleable\"><input class=\"sk-toggleable__control sk-hidden--visually\" id=\"9c40c11f-fb20-492a-ad88-2edc87336c34\" type=\"checkbox\" ><label class=\"sk-toggleable__label\" for=\"9c40c11f-fb20-492a-ad88-2edc87336c34\">OneHotEncoder</label><div class=\"sk-toggleable__content\"><pre>OneHotEncoder(handle_unknown='ignore')</pre></div></div></div></div></div></div></div></div></div></div></div></div>"
      ],
      "text/plain": [
       "ColumnTransformer(transformers=[('num',\n",
       "                                 Pipeline(steps=[('imputer', SimpleImputer()),\n",
       "                                                 ('scaler', StandardScaler())]),\n",
       "                                 ['Pclass', 'Age', 'SibSp', 'Parch', 'Fare']),\n",
       "                                ('cat',\n",
       "                                 Pipeline(steps=[('imputer',\n",
       "                                                  SimpleImputer(fill_value='missing',\n",
       "                                                                strategy='constant')),\n",
       "                                                 ('onehot',\n",
       "                                                  OneHotEncoder(handle_unknown='ignore'))]),\n",
       "                                 ['Sex', 'Embarked'])])"
      ]
     },
     "execution_count": 21,
     "metadata": {},
     "output_type": "execute_result"
    }
   ],
   "source": [
    "num_preprocessing = pipeline.Pipeline(steps=[\n",
    "    ('imputer', impute.SimpleImputer(strategy='mean', add_indicator=False)), # mean, median\n",
    "    ('scaler', preprocessing.StandardScaler())\n",
    "])\n",
    "\n",
    "cat_preporcessing = pipeline.Pipeline(steps=[\n",
    "    ('imputer', impute.SimpleImputer(strategy='constant', fill_value='missing')),\n",
    "    ('onehot', preprocessing.OneHotEncoder(handle_unknown='ignore'))\n",
    "])\n",
    "\n",
    "prepro = compose.ColumnTransformer(transformers=[\n",
    "    ('num', num_preprocessing, num_vars),\n",
    "    ('cat', cat_preporcessing, cat_vars),\n",
    "], remainder='drop') # Drop other vars not specified in num_vars or cat_vars\n",
    "\n",
    "prepro"
   ]
  },
  {
   "cell_type": "code",
   "execution_count": 23,
   "metadata": {},
   "outputs": [
    {
     "data": {
      "text/plain": [
       "((712, 11), (179, 11))"
      ]
     },
     "execution_count": 23,
     "metadata": {},
     "output_type": "execute_result"
    }
   ],
   "source": [
    "x_train_prepro  = prepro.fit_transform(x_train)  # ONLY FIT THE PREPROCESSOR ON TRAIN TO AVOID DATA LEAKS !!!\n",
    "x_val_prepro    = prepro.transform(x_val)\n",
    "\n",
    "x_train_prepro.shape, x_val_prepro.shape"
   ]
  },
  {
   "cell_type": "markdown",
   "metadata": {},
   "source": [
    "# Check our preprocesed data"
   ]
  },
  {
   "cell_type": "code",
   "execution_count": 24,
   "metadata": {},
   "outputs": [
    {
     "data": {
      "text/plain": [
       "['Sex_female',\n",
       " 'Sex_male',\n",
       " 'Embarked_C',\n",
       " 'Embarked_Q',\n",
       " 'Embarked_S',\n",
       " 'Embarked_missing']"
      ]
     },
     "execution_count": 24,
     "metadata": {},
     "output_type": "execute_result"
    }
   ],
   "source": [
    "cat_vars_oh = prepro.named_transformers_[\"cat\"][\"onehot\"].get_feature_names(cat_vars).tolist()\n",
    "cat_vars_oh"
   ]
  },
  {
   "cell_type": "code",
   "execution_count": 25,
   "metadata": {},
   "outputs": [
    {
     "data": {
      "text/html": [
       "<div>\n",
       "<style scoped>\n",
       "    .dataframe tbody tr th:only-of-type {\n",
       "        vertical-align: middle;\n",
       "    }\n",
       "\n",
       "    .dataframe tbody tr th {\n",
       "        vertical-align: top;\n",
       "    }\n",
       "\n",
       "    .dataframe thead th {\n",
       "        text-align: right;\n",
       "    }\n",
       "</style>\n",
       "<table border=\"1\" class=\"dataframe\">\n",
       "  <thead>\n",
       "    <tr style=\"text-align: right;\">\n",
       "      <th></th>\n",
       "      <th>Pclass</th>\n",
       "      <th>Age</th>\n",
       "      <th>SibSp</th>\n",
       "      <th>Parch</th>\n",
       "      <th>Fare</th>\n",
       "      <th>Sex_female</th>\n",
       "      <th>Sex_male</th>\n",
       "      <th>Embarked_C</th>\n",
       "      <th>Embarked_Q</th>\n",
       "      <th>Embarked_S</th>\n",
       "      <th>Embarked_missing</th>\n",
       "    </tr>\n",
       "  </thead>\n",
       "  <tbody>\n",
       "    <tr>\n",
       "      <th>0</th>\n",
       "      <td>-0.343748</td>\n",
       "      <td>-0.533095</td>\n",
       "      <td>-0.476604</td>\n",
       "      <td>-0.460631</td>\n",
       "      <td>-0.401127</td>\n",
       "      <td>0.0</td>\n",
       "      <td>1.0</td>\n",
       "      <td>0.0</td>\n",
       "      <td>0.0</td>\n",
       "      <td>1.0</td>\n",
       "      <td>0.0</td>\n",
       "    </tr>\n",
       "    <tr>\n",
       "      <th>1</th>\n",
       "      <td>0.844352</td>\n",
       "      <td>0.589697</td>\n",
       "      <td>0.435605</td>\n",
       "      <td>5.774523</td>\n",
       "      <td>-0.026153</td>\n",
       "      <td>1.0</td>\n",
       "      <td>0.0</td>\n",
       "      <td>0.0</td>\n",
       "      <td>0.0</td>\n",
       "      <td>1.0</td>\n",
       "      <td>0.0</td>\n",
       "    </tr>\n",
       "    <tr>\n",
       "      <th>2</th>\n",
       "      <td>0.844352</td>\n",
       "      <td>-1.506182</td>\n",
       "      <td>2.260023</td>\n",
       "      <td>2.033431</td>\n",
       "      <td>-0.097273</td>\n",
       "      <td>0.0</td>\n",
       "      <td>1.0</td>\n",
       "      <td>0.0</td>\n",
       "      <td>0.0</td>\n",
       "      <td>1.0</td>\n",
       "      <td>0.0</td>\n",
       "    </tr>\n",
       "    <tr>\n",
       "      <th>3</th>\n",
       "      <td>-1.531848</td>\n",
       "      <td>-1.057065</td>\n",
       "      <td>-0.476604</td>\n",
       "      <td>-0.460631</td>\n",
       "      <td>1.097751</td>\n",
       "      <td>1.0</td>\n",
       "      <td>0.0</td>\n",
       "      <td>0.0</td>\n",
       "      <td>0.0</td>\n",
       "      <td>1.0</td>\n",
       "      <td>0.0</td>\n",
       "    </tr>\n",
       "    <tr>\n",
       "      <th>4</th>\n",
       "      <td>0.844352</td>\n",
       "      <td>-2.198570</td>\n",
       "      <td>1.347814</td>\n",
       "      <td>0.786400</td>\n",
       "      <td>-0.273502</td>\n",
       "      <td>1.0</td>\n",
       "      <td>0.0</td>\n",
       "      <td>1.0</td>\n",
       "      <td>0.0</td>\n",
       "      <td>0.0</td>\n",
       "      <td>0.0</td>\n",
       "    </tr>\n",
       "  </tbody>\n",
       "</table>\n",
       "</div>"
      ],
      "text/plain": [
       "     Pclass       Age     SibSp     Parch      Fare  Sex_female  Sex_male  \\\n",
       "0 -0.343748 -0.533095 -0.476604 -0.460631 -0.401127         0.0       1.0   \n",
       "1  0.844352  0.589697  0.435605  5.774523 -0.026153         1.0       0.0   \n",
       "2  0.844352 -1.506182  2.260023  2.033431 -0.097273         0.0       1.0   \n",
       "3 -1.531848 -1.057065 -0.476604 -0.460631  1.097751         1.0       0.0   \n",
       "4  0.844352 -2.198570  1.347814  0.786400 -0.273502         1.0       0.0   \n",
       "\n",
       "   Embarked_C  Embarked_Q  Embarked_S  Embarked_missing  \n",
       "0         0.0         0.0         1.0               0.0  \n",
       "1         0.0         0.0         1.0               0.0  \n",
       "2         0.0         0.0         1.0               0.0  \n",
       "3         0.0         0.0         1.0               0.0  \n",
       "4         1.0         0.0         0.0               0.0  "
      ]
     },
     "execution_count": 25,
     "metadata": {},
     "output_type": "execute_result"
    }
   ],
   "source": [
    "pd.DataFrame(data = x_train_prepro, columns=num_vars+cat_vars_oh).head() # X DATA (WILL BE TRAIN+VALID DATA)"
   ]
  },
  {
   "cell_type": "code",
   "execution_count": 26,
   "metadata": {},
   "outputs": [
    {
     "data": {
      "text/html": [
       "<div>\n",
       "<style scoped>\n",
       "    .dataframe tbody tr th:only-of-type {\n",
       "        vertical-align: middle;\n",
       "    }\n",
       "\n",
       "    .dataframe tbody tr th {\n",
       "        vertical-align: top;\n",
       "    }\n",
       "\n",
       "    .dataframe thead th {\n",
       "        text-align: right;\n",
       "    }\n",
       "</style>\n",
       "<table border=\"1\" class=\"dataframe\">\n",
       "  <thead>\n",
       "    <tr style=\"text-align: right;\">\n",
       "      <th></th>\n",
       "      <th>Pclass</th>\n",
       "      <th>Age</th>\n",
       "      <th>SibSp</th>\n",
       "      <th>Parch</th>\n",
       "      <th>Fare</th>\n",
       "      <th>Sex_female</th>\n",
       "      <th>Sex_male</th>\n",
       "      <th>Embarked_C</th>\n",
       "      <th>Embarked_Q</th>\n",
       "      <th>Embarked_S</th>\n",
       "      <th>Embarked_missing</th>\n",
       "    </tr>\n",
       "  </thead>\n",
       "  <tbody>\n",
       "    <tr>\n",
       "      <th>0</th>\n",
       "      <td>-1.531848</td>\n",
       "      <td>-9.125345e-03</td>\n",
       "      <td>-0.476604</td>\n",
       "      <td>-0.460631</td>\n",
       "      <td>0.494717</td>\n",
       "      <td>1.0</td>\n",
       "      <td>0.0</td>\n",
       "      <td>1.0</td>\n",
       "      <td>0.0</td>\n",
       "      <td>0.0</td>\n",
       "      <td>0.0</td>\n",
       "    </tr>\n",
       "    <tr>\n",
       "      <th>1</th>\n",
       "      <td>0.844352</td>\n",
       "      <td>5.318613e-16</td>\n",
       "      <td>-0.476604</td>\n",
       "      <td>-0.460631</td>\n",
       "      <td>0.485878</td>\n",
       "      <td>0.0</td>\n",
       "      <td>1.0</td>\n",
       "      <td>0.0</td>\n",
       "      <td>0.0</td>\n",
       "      <td>1.0</td>\n",
       "      <td>0.0</td>\n",
       "    </tr>\n",
       "    <tr>\n",
       "      <th>2</th>\n",
       "      <td>0.844352</td>\n",
       "      <td>-1.955299e+00</td>\n",
       "      <td>-0.476604</td>\n",
       "      <td>0.786400</td>\n",
       "      <td>-0.392629</td>\n",
       "      <td>1.0</td>\n",
       "      <td>0.0</td>\n",
       "      <td>1.0</td>\n",
       "      <td>0.0</td>\n",
       "      <td>0.0</td>\n",
       "      <td>0.0</td>\n",
       "    </tr>\n",
       "    <tr>\n",
       "      <th>3</th>\n",
       "      <td>-1.531848</td>\n",
       "      <td>5.318613e-16</td>\n",
       "      <td>-0.476604</td>\n",
       "      <td>-0.460631</td>\n",
       "      <td>-0.060566</td>\n",
       "      <td>0.0</td>\n",
       "      <td>1.0</td>\n",
       "      <td>1.0</td>\n",
       "      <td>0.0</td>\n",
       "      <td>0.0</td>\n",
       "      <td>0.0</td>\n",
       "    </tr>\n",
       "    <tr>\n",
       "      <th>4</th>\n",
       "      <td>0.844352</td>\n",
       "      <td>5.318613e-16</td>\n",
       "      <td>-0.476604</td>\n",
       "      <td>-0.460631</td>\n",
       "      <td>-0.508190</td>\n",
       "      <td>1.0</td>\n",
       "      <td>0.0</td>\n",
       "      <td>0.0</td>\n",
       "      <td>1.0</td>\n",
       "      <td>0.0</td>\n",
       "      <td>0.0</td>\n",
       "    </tr>\n",
       "  </tbody>\n",
       "</table>\n",
       "</div>"
      ],
      "text/plain": [
       "     Pclass           Age     SibSp     Parch      Fare  Sex_female  Sex_male  \\\n",
       "0 -1.531848 -9.125345e-03 -0.476604 -0.460631  0.494717         1.0       0.0   \n",
       "1  0.844352  5.318613e-16 -0.476604 -0.460631  0.485878         0.0       1.0   \n",
       "2  0.844352 -1.955299e+00 -0.476604  0.786400 -0.392629         1.0       0.0   \n",
       "3 -1.531848  5.318613e-16 -0.476604 -0.460631 -0.060566         0.0       1.0   \n",
       "4  0.844352  5.318613e-16 -0.476604 -0.460631 -0.508190         1.0       0.0   \n",
       "\n",
       "   Embarked_C  Embarked_Q  Embarked_S  Embarked_missing  \n",
       "0         1.0         0.0         0.0               0.0  \n",
       "1         0.0         0.0         1.0               0.0  \n",
       "2         1.0         0.0         0.0               0.0  \n",
       "3         1.0         0.0         0.0               0.0  \n",
       "4         0.0         1.0         0.0               0.0  "
      ]
     },
     "execution_count": 26,
     "metadata": {},
     "output_type": "execute_result"
    }
   ],
   "source": [
    "pd.DataFrame(data = x_val_prepro, columns=num_vars+cat_vars_oh).head() # X_TEST DATA (NEW DATA)"
   ]
  },
  {
   "cell_type": "markdown",
   "metadata": {},
   "source": [
    "# Train Model"
   ]
  },
  {
   "cell_type": "code",
   "execution_count": 27,
   "metadata": {
    "colab": {},
    "colab_type": "code",
    "id": "monuuQhHL7B_"
   },
   "outputs": [
    {
     "data": {
      "text/html": [
       "<style>#sk-28db2367-280c-4c69-97df-9a16998eeee6 {color: black;background-color: white;}#sk-28db2367-280c-4c69-97df-9a16998eeee6 pre{padding: 0;}#sk-28db2367-280c-4c69-97df-9a16998eeee6 div.sk-toggleable {background-color: white;}#sk-28db2367-280c-4c69-97df-9a16998eeee6 label.sk-toggleable__label {cursor: pointer;display: block;width: 100%;margin-bottom: 0;padding: 0.2em 0.3em;box-sizing: border-box;text-align: center;}#sk-28db2367-280c-4c69-97df-9a16998eeee6 div.sk-toggleable__content {max-height: 0;max-width: 0;overflow: hidden;text-align: left;background-color: #f0f8ff;}#sk-28db2367-280c-4c69-97df-9a16998eeee6 div.sk-toggleable__content pre {margin: 0.2em;color: black;border-radius: 0.25em;background-color: #f0f8ff;}#sk-28db2367-280c-4c69-97df-9a16998eeee6 input.sk-toggleable__control:checked~div.sk-toggleable__content {max-height: 200px;max-width: 100%;overflow: auto;}#sk-28db2367-280c-4c69-97df-9a16998eeee6 div.sk-estimator input.sk-toggleable__control:checked~label.sk-toggleable__label {background-color: #d4ebff;}#sk-28db2367-280c-4c69-97df-9a16998eeee6 div.sk-label input.sk-toggleable__control:checked~label.sk-toggleable__label {background-color: #d4ebff;}#sk-28db2367-280c-4c69-97df-9a16998eeee6 input.sk-hidden--visually {border: 0;clip: rect(1px 1px 1px 1px);clip: rect(1px, 1px, 1px, 1px);height: 1px;margin: -1px;overflow: hidden;padding: 0;position: absolute;width: 1px;}#sk-28db2367-280c-4c69-97df-9a16998eeee6 div.sk-estimator {font-family: monospace;background-color: #f0f8ff;margin: 0.25em 0.25em;border: 1px dotted black;border-radius: 0.25em;box-sizing: border-box;}#sk-28db2367-280c-4c69-97df-9a16998eeee6 div.sk-estimator:hover {background-color: #d4ebff;}#sk-28db2367-280c-4c69-97df-9a16998eeee6 div.sk-parallel-item::after {content: \"\";width: 100%;border-bottom: 1px solid gray;flex-grow: 1;}#sk-28db2367-280c-4c69-97df-9a16998eeee6 div.sk-label:hover label.sk-toggleable__label {background-color: #d4ebff;}#sk-28db2367-280c-4c69-97df-9a16998eeee6 div.sk-serial::before {content: \"\";position: absolute;border-left: 1px solid gray;box-sizing: border-box;top: 2em;bottom: 0;left: 50%;}#sk-28db2367-280c-4c69-97df-9a16998eeee6 div.sk-serial {display: flex;flex-direction: column;align-items: center;background-color: white;}#sk-28db2367-280c-4c69-97df-9a16998eeee6 div.sk-item {z-index: 1;}#sk-28db2367-280c-4c69-97df-9a16998eeee6 div.sk-parallel {display: flex;align-items: stretch;justify-content: center;background-color: white;}#sk-28db2367-280c-4c69-97df-9a16998eeee6 div.sk-parallel-item {display: flex;flex-direction: column;position: relative;background-color: white;}#sk-28db2367-280c-4c69-97df-9a16998eeee6 div.sk-parallel-item:first-child::after {align-self: flex-end;width: 50%;}#sk-28db2367-280c-4c69-97df-9a16998eeee6 div.sk-parallel-item:last-child::after {align-self: flex-start;width: 50%;}#sk-28db2367-280c-4c69-97df-9a16998eeee6 div.sk-parallel-item:only-child::after {width: 0;}#sk-28db2367-280c-4c69-97df-9a16998eeee6 div.sk-dashed-wrapped {border: 1px dashed gray;margin: 0.2em;box-sizing: border-box;padding-bottom: 0.1em;background-color: white;position: relative;}#sk-28db2367-280c-4c69-97df-9a16998eeee6 div.sk-label label {font-family: monospace;font-weight: bold;background-color: white;display: inline-block;line-height: 1.2em;}#sk-28db2367-280c-4c69-97df-9a16998eeee6 div.sk-label-container {position: relative;z-index: 2;text-align: center;}#sk-28db2367-280c-4c69-97df-9a16998eeee6 div.sk-container {display: inline-block;position: relative;}</style><div id=\"sk-28db2367-280c-4c69-97df-9a16998eeee6\" class\"sk-top-container\"><div class=\"sk-container\"><div class=\"sk-item\"><div class=\"sk-estimator sk-toggleable\"><input class=\"sk-toggleable__control sk-hidden--visually\" id=\"4eef2396-50ac-419b-b5bb-7bbaf95f69dc\" type=\"checkbox\" checked><label class=\"sk-toggleable__label\" for=\"4eef2396-50ac-419b-b5bb-7bbaf95f69dc\">LogisticRegression</label><div class=\"sk-toggleable__content\"><pre>LogisticRegression(max_iter=2000, random_state=1)</pre></div></div></div></div></div>"
      ],
      "text/plain": [
       "LogisticRegression(max_iter=2000, random_state=1)"
      ]
     },
     "execution_count": 27,
     "metadata": {},
     "output_type": "execute_result"
    }
   ],
   "source": [
    "model = linear_model.LogisticRegression(max_iter=2000, random_state=1)\n",
    "model.fit(x_train_prepro, y_train)"
   ]
  },
  {
   "cell_type": "markdown",
   "metadata": {},
   "source": [
    "## Full Pipeline: Prepro + Model"
   ]
  },
  {
   "cell_type": "code",
   "execution_count": 28,
   "metadata": {},
   "outputs": [
    {
     "data": {
      "text/html": [
       "<style>#sk-088b2461-4de9-4d5b-9f9d-0bb8d5426794 {color: black;background-color: white;}#sk-088b2461-4de9-4d5b-9f9d-0bb8d5426794 pre{padding: 0;}#sk-088b2461-4de9-4d5b-9f9d-0bb8d5426794 div.sk-toggleable {background-color: white;}#sk-088b2461-4de9-4d5b-9f9d-0bb8d5426794 label.sk-toggleable__label {cursor: pointer;display: block;width: 100%;margin-bottom: 0;padding: 0.2em 0.3em;box-sizing: border-box;text-align: center;}#sk-088b2461-4de9-4d5b-9f9d-0bb8d5426794 div.sk-toggleable__content {max-height: 0;max-width: 0;overflow: hidden;text-align: left;background-color: #f0f8ff;}#sk-088b2461-4de9-4d5b-9f9d-0bb8d5426794 div.sk-toggleable__content pre {margin: 0.2em;color: black;border-radius: 0.25em;background-color: #f0f8ff;}#sk-088b2461-4de9-4d5b-9f9d-0bb8d5426794 input.sk-toggleable__control:checked~div.sk-toggleable__content {max-height: 200px;max-width: 100%;overflow: auto;}#sk-088b2461-4de9-4d5b-9f9d-0bb8d5426794 div.sk-estimator input.sk-toggleable__control:checked~label.sk-toggleable__label {background-color: #d4ebff;}#sk-088b2461-4de9-4d5b-9f9d-0bb8d5426794 div.sk-label input.sk-toggleable__control:checked~label.sk-toggleable__label {background-color: #d4ebff;}#sk-088b2461-4de9-4d5b-9f9d-0bb8d5426794 input.sk-hidden--visually {border: 0;clip: rect(1px 1px 1px 1px);clip: rect(1px, 1px, 1px, 1px);height: 1px;margin: -1px;overflow: hidden;padding: 0;position: absolute;width: 1px;}#sk-088b2461-4de9-4d5b-9f9d-0bb8d5426794 div.sk-estimator {font-family: monospace;background-color: #f0f8ff;margin: 0.25em 0.25em;border: 1px dotted black;border-radius: 0.25em;box-sizing: border-box;}#sk-088b2461-4de9-4d5b-9f9d-0bb8d5426794 div.sk-estimator:hover {background-color: #d4ebff;}#sk-088b2461-4de9-4d5b-9f9d-0bb8d5426794 div.sk-parallel-item::after {content: \"\";width: 100%;border-bottom: 1px solid gray;flex-grow: 1;}#sk-088b2461-4de9-4d5b-9f9d-0bb8d5426794 div.sk-label:hover label.sk-toggleable__label {background-color: #d4ebff;}#sk-088b2461-4de9-4d5b-9f9d-0bb8d5426794 div.sk-serial::before {content: \"\";position: absolute;border-left: 1px solid gray;box-sizing: border-box;top: 2em;bottom: 0;left: 50%;}#sk-088b2461-4de9-4d5b-9f9d-0bb8d5426794 div.sk-serial {display: flex;flex-direction: column;align-items: center;background-color: white;}#sk-088b2461-4de9-4d5b-9f9d-0bb8d5426794 div.sk-item {z-index: 1;}#sk-088b2461-4de9-4d5b-9f9d-0bb8d5426794 div.sk-parallel {display: flex;align-items: stretch;justify-content: center;background-color: white;}#sk-088b2461-4de9-4d5b-9f9d-0bb8d5426794 div.sk-parallel-item {display: flex;flex-direction: column;position: relative;background-color: white;}#sk-088b2461-4de9-4d5b-9f9d-0bb8d5426794 div.sk-parallel-item:first-child::after {align-self: flex-end;width: 50%;}#sk-088b2461-4de9-4d5b-9f9d-0bb8d5426794 div.sk-parallel-item:last-child::after {align-self: flex-start;width: 50%;}#sk-088b2461-4de9-4d5b-9f9d-0bb8d5426794 div.sk-parallel-item:only-child::after {width: 0;}#sk-088b2461-4de9-4d5b-9f9d-0bb8d5426794 div.sk-dashed-wrapped {border: 1px dashed gray;margin: 0.2em;box-sizing: border-box;padding-bottom: 0.1em;background-color: white;position: relative;}#sk-088b2461-4de9-4d5b-9f9d-0bb8d5426794 div.sk-label label {font-family: monospace;font-weight: bold;background-color: white;display: inline-block;line-height: 1.2em;}#sk-088b2461-4de9-4d5b-9f9d-0bb8d5426794 div.sk-label-container {position: relative;z-index: 2;text-align: center;}#sk-088b2461-4de9-4d5b-9f9d-0bb8d5426794 div.sk-container {display: inline-block;position: relative;}</style><div id=\"sk-088b2461-4de9-4d5b-9f9d-0bb8d5426794\" class\"sk-top-container\"><div class=\"sk-container\"><div class=\"sk-item sk-dashed-wrapped\"><div class=\"sk-label-container\"><div class=\"sk-label sk-toggleable\"><input class=\"sk-toggleable__control sk-hidden--visually\" id=\"0f02ca74-e911-40b8-9abc-64d99470b02a\" type=\"checkbox\" ><label class=\"sk-toggleable__label\" for=\"0f02ca74-e911-40b8-9abc-64d99470b02a\">Pipeline</label><div class=\"sk-toggleable__content\"><pre>Pipeline(steps=[('preprocessor',\n",
       "                 ColumnTransformer(transformers=[('num',\n",
       "                                                  Pipeline(steps=[('imputer',\n",
       "                                                                   SimpleImputer()),\n",
       "                                                                  ('scaler',\n",
       "                                                                   StandardScaler())]),\n",
       "                                                  ['Pclass', 'Age', 'SibSp',\n",
       "                                                   'Parch', 'Fare']),\n",
       "                                                 ('cat',\n",
       "                                                  Pipeline(steps=[('imputer',\n",
       "                                                                   SimpleImputer(fill_value='missing',\n",
       "                                                                                 strategy='constant')),\n",
       "                                                                  ('onehot',\n",
       "                                                                   OneHotEncoder(handle_unknown='ignore'))]),\n",
       "                                                  ['Sex', 'Embarked'])])),\n",
       "                ('model', LogisticRegression(max_iter=2000, random_state=1))])</pre></div></div></div><div class=\"sk-serial\"><div class=\"sk-item sk-dashed-wrapped\"><div class=\"sk-label-container\"><div class=\"sk-label sk-toggleable\"><input class=\"sk-toggleable__control sk-hidden--visually\" id=\"e6d91b9f-8e50-4b3f-baf1-c126c900e2bd\" type=\"checkbox\" ><label class=\"sk-toggleable__label\" for=\"e6d91b9f-8e50-4b3f-baf1-c126c900e2bd\">preprocessor: ColumnTransformer</label><div class=\"sk-toggleable__content\"><pre>ColumnTransformer(transformers=[('num',\n",
       "                                 Pipeline(steps=[('imputer', SimpleImputer()),\n",
       "                                                 ('scaler', StandardScaler())]),\n",
       "                                 ['Pclass', 'Age', 'SibSp', 'Parch', 'Fare']),\n",
       "                                ('cat',\n",
       "                                 Pipeline(steps=[('imputer',\n",
       "                                                  SimpleImputer(fill_value='missing',\n",
       "                                                                strategy='constant')),\n",
       "                                                 ('onehot',\n",
       "                                                  OneHotEncoder(handle_unknown='ignore'))]),\n",
       "                                 ['Sex', 'Embarked'])])</pre></div></div></div><div class=\"sk-parallel\"><div class=\"sk-parallel-item\"><div class=\"sk-item\"><div class=\"sk-label-container\"><div class=\"sk-label sk-toggleable\"><input class=\"sk-toggleable__control sk-hidden--visually\" id=\"04720f34-e699-4141-8d92-2f0b000a3d9b\" type=\"checkbox\" ><label class=\"sk-toggleable__label\" for=\"04720f34-e699-4141-8d92-2f0b000a3d9b\">num</label><div class=\"sk-toggleable__content\"><pre>['Pclass', 'Age', 'SibSp', 'Parch', 'Fare']</pre></div></div></div><div class=\"sk-serial\"><div class=\"sk-item\"><div class=\"sk-serial\"><div class=\"sk-item\"><div class=\"sk-estimator sk-toggleable\"><input class=\"sk-toggleable__control sk-hidden--visually\" id=\"63456721-c604-4e58-8398-ceecdd064028\" type=\"checkbox\" ><label class=\"sk-toggleable__label\" for=\"63456721-c604-4e58-8398-ceecdd064028\">SimpleImputer</label><div class=\"sk-toggleable__content\"><pre>SimpleImputer()</pre></div></div></div><div class=\"sk-item\"><div class=\"sk-estimator sk-toggleable\"><input class=\"sk-toggleable__control sk-hidden--visually\" id=\"e4a4b8d4-18ce-4ab8-9c6a-ab8e39f146bd\" type=\"checkbox\" ><label class=\"sk-toggleable__label\" for=\"e4a4b8d4-18ce-4ab8-9c6a-ab8e39f146bd\">StandardScaler</label><div class=\"sk-toggleable__content\"><pre>StandardScaler()</pre></div></div></div></div></div></div></div></div><div class=\"sk-parallel-item\"><div class=\"sk-item\"><div class=\"sk-label-container\"><div class=\"sk-label sk-toggleable\"><input class=\"sk-toggleable__control sk-hidden--visually\" id=\"6edb2c99-e5dc-42a6-b368-92bbc2152975\" type=\"checkbox\" ><label class=\"sk-toggleable__label\" for=\"6edb2c99-e5dc-42a6-b368-92bbc2152975\">cat</label><div class=\"sk-toggleable__content\"><pre>['Sex', 'Embarked']</pre></div></div></div><div class=\"sk-serial\"><div class=\"sk-item\"><div class=\"sk-serial\"><div class=\"sk-item\"><div class=\"sk-estimator sk-toggleable\"><input class=\"sk-toggleable__control sk-hidden--visually\" id=\"e8e36169-3d6c-45f8-96a8-e5059f00f172\" type=\"checkbox\" ><label class=\"sk-toggleable__label\" for=\"e8e36169-3d6c-45f8-96a8-e5059f00f172\">SimpleImputer</label><div class=\"sk-toggleable__content\"><pre>SimpleImputer(fill_value='missing', strategy='constant')</pre></div></div></div><div class=\"sk-item\"><div class=\"sk-estimator sk-toggleable\"><input class=\"sk-toggleable__control sk-hidden--visually\" id=\"fb31f64b-91db-4f21-81de-ded5fbff0b1f\" type=\"checkbox\" ><label class=\"sk-toggleable__label\" for=\"fb31f64b-91db-4f21-81de-ded5fbff0b1f\">OneHotEncoder</label><div class=\"sk-toggleable__content\"><pre>OneHotEncoder(handle_unknown='ignore')</pre></div></div></div></div></div></div></div></div></div></div><div class=\"sk-item\"><div class=\"sk-estimator sk-toggleable\"><input class=\"sk-toggleable__control sk-hidden--visually\" id=\"3632a045-56ba-41b5-9c81-84ca7872008d\" type=\"checkbox\" ><label class=\"sk-toggleable__label\" for=\"3632a045-56ba-41b5-9c81-84ca7872008d\">LogisticRegression</label><div class=\"sk-toggleable__content\"><pre>LogisticRegression(max_iter=2000, random_state=1)</pre></div></div></div></div></div></div></div>"
      ],
      "text/plain": [
       "Pipeline(steps=[('preprocessor',\n",
       "                 ColumnTransformer(transformers=[('num',\n",
       "                                                  Pipeline(steps=[('imputer',\n",
       "                                                                   SimpleImputer()),\n",
       "                                                                  ('scaler',\n",
       "                                                                   StandardScaler())]),\n",
       "                                                  ['Pclass', 'Age', 'SibSp',\n",
       "                                                   'Parch', 'Fare']),\n",
       "                                                 ('cat',\n",
       "                                                  Pipeline(steps=[('imputer',\n",
       "                                                                   SimpleImputer(fill_value='missing',\n",
       "                                                                                 strategy='constant')),\n",
       "                                                                  ('onehot',\n",
       "                                                                   OneHotEncoder(handle_unknown='ignore'))]),\n",
       "                                                  ['Sex', 'Embarked'])])),\n",
       "                ('model', LogisticRegression(max_iter=2000, random_state=1))])"
      ]
     },
     "execution_count": 28,
     "metadata": {},
     "output_type": "execute_result"
    }
   ],
   "source": [
    "full_model = pipeline.Pipeline([('preprocessor', prepro), ('model', model)])\n",
    "full_model"
   ]
  },
  {
   "cell_type": "markdown",
   "metadata": {},
   "source": [
    "# Validate\n",
    "\n",
    "See performance metrics like:\n",
    "- Accuracy\n",
    "- Balanced Accuracy\n",
    "- Confusion matrix"
   ]
  },
  {
   "cell_type": "code",
   "execution_count": 29,
   "metadata": {},
   "outputs": [
    {
     "data": {
      "text/plain": [
       "(array([1, 0, 1], dtype=int64), array([0.95078729, 0.09581055, 0.82326738]))"
      ]
     },
     "execution_count": 29,
     "metadata": {},
     "output_type": "execute_result"
    }
   ],
   "source": [
    "# Get Predictions\n",
    "y_pred       = model.predict(x_val_prepro)\n",
    "y_pred_proba = model.predict_proba(x_val_prepro)[:, 1]\n",
    "\n",
    "y_pred[:3], y_pred_proba[:3]"
   ]
  },
  {
   "cell_type": "code",
   "execution_count": 30,
   "metadata": {},
   "outputs": [
    {
     "name": "stdout",
     "output_type": "stream",
     "text": [
      "Accuracy:           81.56424581005587\n",
      "Balanced accuracy:  80.13833992094861\n",
      "Log loss:           0.4420097181204312\n",
      "AUC:                85.49407114624505\n"
     ]
    },
    {
     "data": {
      "image/png": "[encoded data removed]",
      "text/plain": [
       "<Figure size 576x288 with 4 Axes>"
      ]
     },
     "metadata": {
      "needs_background": "light"
     },
     "output_type": "display_data"
    }
   ],
   "source": [
    "# See metrics\n",
    "print(\"Accuracy:          \", metrics.accuracy_score(y_val, y_pred)*100)\n",
    "print(\"Balanced accuracy: \", metrics.balanced_accuracy_score(y_val, y_pred)*100)\n",
    "print(\"Log loss:          \", metrics.log_loss(y_val, y_pred_proba))\n",
    "print(\"AUC:               \", metrics.roc_auc_score(y_val, y_pred_proba)*100) # Area Under ROC Curve\n",
    "\n",
    "\n",
    "_, axes = plt.subplots(1, 2, figsize=(8, 4))\n",
    "metrics.plot_confusion_matrix(model, x_val_prepro, y_val,\n",
    "                      cmap=plt.cm.Blues, normalize=None,\n",
    "                      ax=axes[0]);\n",
    "\n",
    "metrics.plot_confusion_matrix(model, x_val_prepro, y_val,\n",
    "                      cmap=plt.cm.Blues, normalize=\"true\",\n",
    "                      ax=axes[1]);"
   ]
  },
  {
   "cell_type": "markdown",
   "metadata": {},
   "source": [
    "## See cofficients (Only for linear models)"
   ]
  },
  {
   "cell_type": "code",
   "execution_count": 31,
   "metadata": {},
   "outputs": [
    {
     "data": {
      "text/html": [
       "<div>\n",
       "<style scoped>\n",
       "    .dataframe tbody tr th:only-of-type {\n",
       "        vertical-align: middle;\n",
       "    }\n",
       "\n",
       "    .dataframe tbody tr th {\n",
       "        vertical-align: top;\n",
       "    }\n",
       "\n",
       "    .dataframe thead th {\n",
       "        text-align: right;\n",
       "    }\n",
       "</style>\n",
       "<table border=\"1\" class=\"dataframe\">\n",
       "  <thead>\n",
       "    <tr style=\"text-align: right;\">\n",
       "      <th></th>\n",
       "      <th>Coefs</th>\n",
       "    </tr>\n",
       "  </thead>\n",
       "  <tbody>\n",
       "    <tr>\n",
       "      <th>Sex_male</th>\n",
       "      <td>-1.335175</td>\n",
       "    </tr>\n",
       "    <tr>\n",
       "      <th>Pclass</th>\n",
       "      <td>-0.890354</td>\n",
       "    </tr>\n",
       "    <tr>\n",
       "      <th>Age</th>\n",
       "      <td>-0.415987</td>\n",
       "    </tr>\n",
       "    <tr>\n",
       "      <th>Embarked_S</th>\n",
       "      <td>-0.257046</td>\n",
       "    </tr>\n",
       "    <tr>\n",
       "      <th>SibSp</th>\n",
       "      <td>-0.253253</td>\n",
       "    </tr>\n",
       "    <tr>\n",
       "      <th>Embarked_Q</th>\n",
       "      <td>-0.095504</td>\n",
       "    </tr>\n",
       "    <tr>\n",
       "      <th>Parch</th>\n",
       "      <td>-0.061410</td>\n",
       "    </tr>\n",
       "    <tr>\n",
       "      <th>Fare</th>\n",
       "      <td>0.044896</td>\n",
       "    </tr>\n",
       "    <tr>\n",
       "      <th>Embarked_C</th>\n",
       "      <td>0.165794</td>\n",
       "    </tr>\n",
       "    <tr>\n",
       "      <th>Embarked_missing</th>\n",
       "      <td>0.179517</td>\n",
       "    </tr>\n",
       "    <tr>\n",
       "      <th>Sex_female</th>\n",
       "      <td>1.327937</td>\n",
       "    </tr>\n",
       "  </tbody>\n",
       "</table>\n",
       "</div>"
      ],
      "text/plain": [
       "                     Coefs\n",
       "Sex_male         -1.335175\n",
       "Pclass           -0.890354\n",
       "Age              -0.415987\n",
       "Embarked_S       -0.257046\n",
       "SibSp            -0.253253\n",
       "Embarked_Q       -0.095504\n",
       "Parch            -0.061410\n",
       "Fare              0.044896\n",
       "Embarked_C        0.165794\n",
       "Embarked_missing  0.179517\n",
       "Sex_female        1.327937"
      ]
     },
     "execution_count": 31,
     "metadata": {},
     "output_type": "execute_result"
    }
   ],
   "source": [
    "coefs = pd.DataFrame(data=model.coef_[0].tolist(), index=num_vars+cat_vars_oh, columns=[\"Coefs\"]).sort_values(by=\"Coefs\")\n",
    "coefs"
   ]
  },
  {
   "cell_type": "code",
   "execution_count": 32,
   "metadata": {},
   "outputs": [
    {
     "data": {
      "image/png": "[encoded data removed]",
      "text/plain": [
       "<Figure size 432x288 with 1 Axes>"
      ]
     },
     "metadata": {
      "needs_background": "light"
     },
     "output_type": "display_data"
    }
   ],
   "source": [
    "coefs.plot.barh();"
   ]
  }
 ],
 "metadata": {
  "anaconda-cloud": {},
  "colab": {
   "collapsed_sections": [],
   "name": "Titanic LogReg.ipynb",
   "provenance": []
  },
  "kernelspec": {
   "display_name": "Python 3",
   "language": "python",
   "name": "python3"
  },
  "language_info": {
   "codemirror_mode": {
    "name": "ipython",
    "version": 3
   },
   "file_extension": ".py",
   "mimetype": "text/x-python",
   "name": "python",
   "nbconvert_exporter": "python",
   "pygments_lexer": "ipython3",
   "version": "3.9.7"
  },
  "name": "seminar13_optional_practice_trees_titanic.ipynb"
 },
 "nbformat": 4,
 "nbformat_minor": 4
}
