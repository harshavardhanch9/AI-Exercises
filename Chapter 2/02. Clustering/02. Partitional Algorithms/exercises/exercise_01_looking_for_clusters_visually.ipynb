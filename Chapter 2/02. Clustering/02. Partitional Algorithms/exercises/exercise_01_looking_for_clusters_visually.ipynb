{
 "cells": [
  {
   "cell_type": "markdown",
   "metadata": {},
   "source": [
    "# Exercise 1: Looking for clusters visually"
   ]
  },
  {
   "cell_type": "markdown",
   "metadata": {},
   "source": [
    "You are given an array `points` of size 300x2, where each row gives the (x, y) co-ordinates of a point on a map.  Make a scatter plot of these points, and use the scatter plot to guess how many clusters there are."
   ]
  },
  {
   "cell_type": "markdown",
   "metadata": {},
   "source": [
    "**Step 1:** Load the dataset _(written for you)_."
   ]
  },
  {
   "cell_type": "code",
   "execution_count": 12,
   "metadata": {
    "collapsed": true,
    "exercise": false
   },
   "outputs": [
    {
     "data": {
      "text/plain": [
       "array([[ 0.06544649, -0.76866376],\n",
       "       [-1.52901547, -0.42953079],\n",
       "       [ 1.70993371,  0.69885253],\n",
       "       [ 1.16779145,  1.01262638],\n",
       "       [-1.80110088, -0.31861296],\n",
       "       [-1.63567888, -0.02859535],\n",
       "       [ 1.21990375,  0.74643463],\n",
       "       [-0.26175155, -0.62492939],\n",
       "       [-1.61925804, -0.47983949],\n",
       "       [-1.84329582, -0.16694431],\n",
       "       [ 1.35999602,  0.94995827],\n",
       "       [ 0.42291856, -0.7349534 ],\n",
       "       [-1.68576139,  0.10686728],\n",
       "       [ 0.90629995,  1.09105162],\n",
       "       [-1.56478322, -0.84675394],\n",
       "       [-0.0257849 , -1.18672539],\n",
       "       [ 0.83027324,  1.14504612],\n",
       "       [ 1.22450432,  1.35066759],\n",
       "       [-0.15394596, -0.71704301],\n",
       "       [ 0.86358809,  1.06824613],\n",
       "       [-1.43386366, -0.2381297 ],\n",
       "       [ 0.03844769, -0.74635022],\n",
       "       [-1.58567922,  0.08499354],\n",
       "       [ 0.6359888 , -0.58477698],\n",
       "       [ 0.24417242, -0.53172465],\n",
       "       [-2.19680359,  0.49473677],\n",
       "       [ 1.0323503 , -0.55688   ],\n",
       "       [-0.28858067, -0.39972528],\n",
       "       [ 0.20597008, -0.80171536],\n",
       "       [-1.2107308 , -0.34924109],\n",
       "       [ 1.33423684,  0.7721489 ],\n",
       "       [ 1.19480152,  1.04788556],\n",
       "       [ 0.9917477 ,  0.89202008],\n",
       "       [-1.8356219 , -0.04839732],\n",
       "       [ 0.08415721, -0.71564326],\n",
       "       [-1.48970175, -0.19299604],\n",
       "       [ 0.38782418, -0.82060119],\n",
       "       [-0.01448044, -0.9779841 ],\n",
       "       [-2.0521341 , -0.02129125],\n",
       "       [ 0.10331194, -0.82162781],\n",
       "       [-0.44189315, -0.65710974],\n",
       "       [ 1.10390926,  1.02481182],\n",
       "       [-1.59227759, -0.17374038],\n",
       "       [-1.47344152, -0.02202853],\n",
       "       [-1.35514704,  0.22971067],\n",
       "       [ 0.0412337 , -1.23776622],\n",
       "       [ 0.4761517 , -1.13672124],\n",
       "       [ 1.04335676,  0.82345905],\n",
       "       [-0.07961882, -0.85677394],\n",
       "       [ 0.87065059,  1.08052841],\n",
       "       [ 1.40267313,  1.07525119],\n",
       "       [ 0.80111157,  1.28342825],\n",
       "       [-0.16527516, -1.23583804],\n",
       "       [-0.33779221, -0.59194323],\n",
       "       [ 0.80610749, -0.73752159],\n",
       "       [-1.43590032, -0.56384446],\n",
       "       [ 0.54868895, -0.95143829],\n",
       "       [ 0.46803131, -0.74973907],\n",
       "       [-1.5137129 , -0.83914323],\n",
       "       [ 0.9138436 ,  1.51126532],\n",
       "       [-1.97233903, -0.41155375],\n",
       "       [ 0.5213406 , -0.88654894],\n",
       "       [ 0.62759494, -1.18590477],\n",
       "       [ 0.94163014,  1.35399335],\n",
       "       [ 0.56994768,  1.07036606],\n",
       "       [-1.87663382,  0.14745773],\n",
       "       [ 0.90612186,  0.91084011],\n",
       "       [-1.37481454,  0.28428395],\n",
       "       [-1.80564029, -0.96710574],\n",
       "       [ 0.34307757, -0.79999275],\n",
       "       [ 0.70380566,  1.00025804],\n",
       "       [-1.68489862, -0.30564595],\n",
       "       [ 1.31473221,  0.98614978],\n",
       "       [ 0.26151216, -0.26069251],\n",
       "       [ 0.9193121 ,  0.82371485],\n",
       "       [-1.21795929, -0.20219674],\n",
       "       [-0.17722723, -1.02665245],\n",
       "       [ 0.64824862, -0.66822881],\n",
       "       [ 0.41206786, -0.28783784],\n",
       "       [ 1.01568202,  1.13481667],\n",
       "       [ 0.67900254, -0.91489502],\n",
       "       [-1.05182747, -0.01062376],\n",
       "       [ 0.61306599,  1.78210384],\n",
       "       [-1.50219748, -0.52308922],\n",
       "       [-1.72717293, -0.46173916],\n",
       "       [-1.60995631, -0.1821007 ],\n",
       "       [-1.09111021, -0.0781398 ],\n",
       "       [-0.01046978, -0.80913034],\n",
       "       [ 0.32782303, -0.80734754],\n",
       "       [ 1.22038503,  1.1959793 ],\n",
       "       [-1.33328681, -0.30001937],\n",
       "       [ 0.87959517,  1.11566491],\n",
       "       [-1.14829098, -0.30400762],\n",
       "       [-0.58019755, -1.19996018],\n",
       "       [-0.01161159, -0.78468854],\n",
       "       [ 0.17359724, -0.63398145],\n",
       "       [ 1.32738556,  0.67759969],\n",
       "       [-1.93467327,  0.30572472],\n",
       "       [-1.57761893, -0.27726365],\n",
       "       [ 0.47639   ,  1.21422648],\n",
       "       [-1.65237509, -0.6803981 ],\n",
       "       [-0.12609976, -1.04327457],\n",
       "       [-1.89607082, -0.70085502],\n",
       "       [ 0.57466899,  0.74878369],\n",
       "       [-0.16660312, -0.83110295],\n",
       "       [ 0.8013355 ,  1.22244435],\n",
       "       [ 1.18455426,  1.4346467 ],\n",
       "       [ 1.08864428,  0.64667112],\n",
       "       [-1.61158505,  0.22805725],\n",
       "       [-1.57512205, -0.09612576],\n",
       "       [ 0.0721357 , -0.69640328],\n",
       "       [-1.40054298,  0.16390598],\n",
       "       [ 1.09607713,  1.16804691],\n",
       "       [-2.54346204, -0.23089822],\n",
       "       [-1.34544875,  0.25151126],\n",
       "       [-1.35478629, -0.19103317],\n",
       "       [ 0.18368113, -1.15827725],\n",
       "       [-1.31368677, -0.376357  ],\n",
       "       [ 0.09990129,  1.22500491],\n",
       "       [ 1.17225574,  1.30835143],\n",
       "       [ 0.0865397 , -0.79714371],\n",
       "       [-0.21053923, -1.13421511],\n",
       "       [ 0.26496024, -0.94760742],\n",
       "       [-0.2557591 , -1.06266022],\n",
       "       [-0.26039757, -0.74774225],\n",
       "       [-1.91787359,  0.16434571],\n",
       "       [ 0.93021139,  0.49436331],\n",
       "       [ 0.44770467, -0.72877918],\n",
       "       [-1.63802869, -0.58925528],\n",
       "       [-1.95712763, -0.10125137],\n",
       "       [ 0.9270337 ,  0.88251423],\n",
       "       [ 1.25660093,  0.60828073],\n",
       "       [-1.72818632,  0.08416887],\n",
       "       [ 0.3499788 , -0.30490298],\n",
       "       [-1.51696082, -0.50913109],\n",
       "       [ 0.18763605, -0.55424924],\n",
       "       [ 0.89609809,  0.83551508],\n",
       "       [-1.54968857, -0.17114782],\n",
       "       [ 1.2157457 ,  1.23317728],\n",
       "       [ 0.20307745, -1.03784906],\n",
       "       [ 0.84589086,  1.03615273],\n",
       "       [ 0.53237919,  1.47362884],\n",
       "       [-0.05319044, -1.36150553],\n",
       "       [ 1.38819743,  1.11729915],\n",
       "       [ 1.00696304,  1.0367721 ],\n",
       "       [ 0.56681869, -1.09637176],\n",
       "       [ 0.86888296,  1.05248874],\n",
       "       [-1.16286609, -0.55875245],\n",
       "       [ 0.27717768, -0.83844015],\n",
       "       [ 0.16563267, -0.80306607],\n",
       "       [ 0.38263303, -0.42683241],\n",
       "       [ 1.14519807,  0.89659026],\n",
       "       [ 0.81455857,  0.67533667],\n",
       "       [-1.8603152 , -0.09537561],\n",
       "       [ 0.965641  ,  0.90295579],\n",
       "       [-1.49897451, -0.33254044],\n",
       "       [-0.1335489 , -0.80727582],\n",
       "       [ 0.12541527, -1.13354906],\n",
       "       [ 1.06062436,  1.28816358],\n",
       "       [-1.49154578, -0.2024641 ],\n",
       "       [ 1.16189032,  1.28819877],\n",
       "       [ 0.54282033,  0.75203524],\n",
       "       [ 0.89221065,  0.99211624],\n",
       "       [-1.49932011, -0.32430667],\n",
       "       [ 0.3166647 , -1.34482915],\n",
       "       [ 0.13972469, -1.22097448],\n",
       "       [-1.5499724 , -0.10782584],\n",
       "       [ 1.23846858,  1.37668804],\n",
       "       [ 1.25558954,  0.72026098],\n",
       "       [ 0.25558689, -1.28529763],\n",
       "       [ 0.45168933, -0.55952093],\n",
       "       [ 1.06202057,  1.03404604],\n",
       "       [ 0.67451908, -0.54970299],\n",
       "       [ 0.22759676, -1.02729468],\n",
       "       [-1.45835281, -0.04951074],\n",
       "       [ 0.23273501, -0.70849262],\n",
       "       [ 1.59679589,  1.11395076],\n",
       "       [ 0.80476105,  0.544627  ],\n",
       "       [ 1.15492521,  1.04352191],\n",
       "       [ 0.59632776, -1.19142897],\n",
       "       [ 0.02839068, -0.43829366],\n",
       "       [ 1.13451584,  0.5632633 ],\n",
       "       [ 0.21576204, -1.04445753],\n",
       "       [ 1.41048987,  1.02830719],\n",
       "       [ 1.12289302,  0.58029441],\n",
       "       [ 0.25200688, -0.82588436],\n",
       "       [-1.28566081, -0.07390909],\n",
       "       [ 1.52849815,  1.11822469],\n",
       "       [-0.23907858, -0.70541972],\n",
       "       [-0.25792784, -0.81825035],\n",
       "       [ 0.59367818, -0.45239915],\n",
       "       [ 0.07931909, -0.29233213],\n",
       "       [-1.27256815,  0.11630577],\n",
       "       [ 0.66930129,  1.00731481],\n",
       "       [ 0.34791546, -1.20822877],\n",
       "       [-2.11283993, -0.66897935],\n",
       "       [-1.6293824 , -0.32718222],\n",
       "       [-1.53819139, -0.01501972],\n",
       "       [-0.11988545, -0.6036339 ],\n",
       "       [-1.54418956, -0.30389844],\n",
       "       [ 0.30026614, -0.77723173],\n",
       "       [ 0.00935449, -0.53888192],\n",
       "       [-1.33424393, -0.11560431],\n",
       "       [ 0.47504489,  0.78421384],\n",
       "       [ 0.59313264,  1.232239  ],\n",
       "       [ 0.41370369, -1.35205857],\n",
       "       [ 0.55840948,  0.78831053],\n",
       "       [ 0.49855018, -0.789949  ],\n",
       "       [ 0.35675809, -0.81038693],\n",
       "       [-1.86197825, -0.59071305],\n",
       "       [-1.61977671, -0.16076687],\n",
       "       [ 0.80779295, -0.73311294],\n",
       "       [ 1.62745775,  0.62787163],\n",
       "       [-1.56993593, -0.08467567],\n",
       "       [ 1.02558561,  0.89383302],\n",
       "       [ 0.24293461, -0.6088253 ],\n",
       "       [ 1.23130242,  1.00262186],\n",
       "       [-1.9651013 , -0.15886289],\n",
       "       [ 0.42795032, -0.70384432],\n",
       "       [-1.58306818, -0.19431923],\n",
       "       [-1.57195923,  0.01413469],\n",
       "       [-0.98145373,  0.06132285],\n",
       "       [-1.48637844, -0.5746531 ],\n",
       "       [ 0.98745828,  0.69188053],\n",
       "       [ 1.28619721,  1.28128821],\n",
       "       [ 0.85850596,  0.95541481],\n",
       "       [ 0.19028286, -0.82112942],\n",
       "       [ 0.26561046, -0.04255239],\n",
       "       [-1.61897897,  0.00862372],\n",
       "       [ 0.24070183, -0.52664209],\n",
       "       [ 1.15220993,  0.43916694],\n",
       "       [-1.21967812, -0.2580313 ],\n",
       "       [ 0.33412533, -0.86117761],\n",
       "       [ 0.17131003, -0.75638965],\n",
       "       [-1.19828397, -0.73744665],\n",
       "       [-0.12245932, -0.45648879],\n",
       "       [ 1.51200698,  0.88825741],\n",
       "       [ 1.10338866,  0.92347479],\n",
       "       [ 1.30972095,  0.59066989],\n",
       "       [ 0.19964876,  1.14855889],\n",
       "       [ 0.81460515,  0.84538972],\n",
       "       [-1.6422739 , -0.42296206],\n",
       "       [ 0.01224351, -0.21247816],\n",
       "       [ 0.33709102, -0.74618065],\n",
       "       [ 0.47301054,  0.72712075],\n",
       "       [ 0.34706626,  1.23033757],\n",
       "       [-0.00393279, -0.97209694],\n",
       "       [-1.64303119,  0.05276337],\n",
       "       [ 1.44649625,  1.14217033],\n",
       "       [-1.93030087, -0.40026146],\n",
       "       [-2.37296135, -0.72633645],\n",
       "       [ 0.45860122, -1.06048953],\n",
       "       [ 0.4896361 , -1.18928313],\n",
       "       [-1.02335902, -0.17520578],\n",
       "       [-1.32761107, -0.93963549],\n",
       "       [-1.50987909, -0.09473658],\n",
       "       [ 0.02723057, -0.79870549],\n",
       "       [ 1.0169412 ,  1.26461701],\n",
       "       [ 0.47733527, -0.9898471 ],\n",
       "       [-1.27784224, -0.547416  ],\n",
       "       [ 0.49898802, -0.6237259 ],\n",
       "       [ 1.06004731,  0.86870008],\n",
       "       [ 1.00207501,  1.38293512],\n",
       "       [ 1.31161394,  0.62833956],\n",
       "       [ 1.13428443,  1.18346542],\n",
       "       [ 1.27671346,  0.96632878],\n",
       "       [-0.63342885, -0.97768251],\n",
       "       [ 0.12698779, -0.93142317],\n",
       "       [-1.34510812, -0.23754226],\n",
       "       [-0.53162278, -1.25153594],\n",
       "       [ 0.21959934, -0.90269938],\n",
       "       [-1.78997479, -0.12115748],\n",
       "       [ 1.23197473, -0.07453764],\n",
       "       [ 1.4163536 ,  1.21551752],\n",
       "       [-1.90280976, -0.1638976 ],\n",
       "       [-0.22440081, -0.75454248],\n",
       "       [ 0.59559412,  0.92414553],\n",
       "       [ 1.21930773,  1.08175284],\n",
       "       [-1.99427535, -0.37587799],\n",
       "       [-1.27818474, -0.52454551],\n",
       "       [ 0.62352689, -1.01430108],\n",
       "       [ 0.14024251, -0.428266  ],\n",
       "       [-0.16145713, -1.16359731],\n",
       "       [-1.74795865, -0.06033101],\n",
       "       [-1.16659791,  0.0902393 ],\n",
       "       [ 0.41110408, -0.8084249 ],\n",
       "       [ 1.14757168,  0.77804528],\n",
       "       [-1.65590748, -0.40105446],\n",
       "       [-1.15306865,  0.00858699],\n",
       "       [ 0.60892121,  0.68974833],\n",
       "       [-0.08434138, -0.97615256],\n",
       "       [ 0.19170053, -0.42331438],\n",
       "       [ 0.29663162, -1.13357399],\n",
       "       [-1.36893628, -0.25052124],\n",
       "       [-0.08037807, -0.56784155],\n",
       "       [ 0.35695011, -1.15064408],\n",
       "       [ 0.02482179, -0.63594828],\n",
       "       [-1.49075558, -0.2482507 ],\n",
       "       [-1.408588  ,  0.25635431],\n",
       "       [-1.98274626, -0.54584475]])"
      ]
     },
     "execution_count": 12,
     "metadata": {},
     "output_type": "execute_result"
    }
   ],
   "source": [
    "import pandas as pd\n",
    "\n",
    "df = pd.read_csv('../datasets/ch1ex1.csv')\n",
    "points = df.values\n",
    "points"
   ]
  },
  {
   "cell_type": "markdown",
   "metadata": {},
   "source": [
    "**Step 2:** Import PyPlot"
   ]
  },
  {
   "cell_type": "code",
   "execution_count": 2,
   "metadata": {
    "collapsed": true
   },
   "outputs": [],
   "source": [
    "import matplotlib.pyplot as plt"
   ]
  },
  {
   "cell_type": "markdown",
   "metadata": {},
   "source": [
    "**Step 3:** Create an array called `xs` that contains the values of `points[:,0]` - that is, column `0` of `points`:"
   ]
  },
  {
   "cell_type": "code",
   "execution_count": 9,
   "metadata": {
    "collapsed": true
   },
   "outputs": [],
   "source": [
    "xs = points[:,0]"
   ]
  },
  {
   "cell_type": "markdown",
   "metadata": {},
   "source": [
    "**Step 3:** Create an array called `ys` that contains the values of `points[:,1]` - that is, column `1` of `points`"
   ]
  },
  {
   "cell_type": "code",
   "execution_count": 14,
   "metadata": {
    "collapsed": true
   },
   "outputs": [],
   "source": [
    "ys = points[:, 1]"
   ]
  },
  {
   "cell_type": "markdown",
   "metadata": {},
   "source": [
    "**Step 4:** Make a scatter plot by passing `xs` and `ys` to the `plt.scatter()` function."
   ]
  },
  {
   "cell_type": "code",
   "execution_count": 15,
   "metadata": {},
   "outputs": [
    {
     "data": {
      "text/plain": [
       "<matplotlib.collections.PathCollection at 0x1f652641ca0>"
      ]
     },
     "execution_count": 15,
     "metadata": {},
     "output_type": "execute_result"
    },
    {
     "data": {
      "image/png": "[encoded data removed]",
      "text/plain": [
       "<Figure size 432x288 with 1 Axes>"
      ]
     },
     "metadata": {
      "needs_background": "light"
     },
     "output_type": "display_data"
    }
   ],
   "source": [
    "plt.scatter(xs, ys)"
   ]
  },
  {
   "cell_type": "markdown",
   "metadata": {},
   "source": [
    "**Step 5:** Call the `plt.show()` function to show your plot."
   ]
  },
  {
   "cell_type": "code",
   "execution_count": 16,
   "metadata": {},
   "outputs": [],
   "source": [
    "plt.show()"
   ]
  }
 ],
 "metadata": {
  "interpreter": {
   "hash": "f5ac2de34b933ba314a3e6f48539e06e23cc03fb97d26544d4fa99c56e4a3ef7"
  },
  "kernelspec": {
   "display_name": "Python 3.8.11 64-bit ('strive': conda)",
   "name": "python3"
  },
  "language_info": {
   "codemirror_mode": {
    "name": "ipython",
    "version": 3
   },
   "file_extension": ".py",
   "mimetype": "text/x-python",
   "name": "python",
   "nbconvert_exporter": "python",
   "pygments_lexer": "ipython3",
   "version": "3.8.11"
  }
 },
 "nbformat": 4,
 "nbformat_minor": 1
}
