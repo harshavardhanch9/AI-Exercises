{
 "cells": [
  {
   "cell_type": "code",
   "execution_count": 23,
   "metadata": {},
   "outputs": [],
   "source": [
    "import pandas as pd\n",
    "import numpy as np"
   ]
  },
  {
   "cell_type": "code",
   "execution_count": 24,
   "metadata": {},
   "outputs": [
    {
     "name": "stdout",
     "output_type": "stream",
     "text": [
      "(420551, 14)\n"
     ]
    }
   ],
   "source": [
    "data = pd.read_csv('climate.csv')\n",
    "data = data.drop([\"Date Time\"], axis=1)\n",
    "print(data.shape)"
   ]
  },
  {
   "cell_type": "code",
   "execution_count": 26,
   "metadata": {},
   "outputs": [
    {
     "name": "stdout",
     "output_type": "stream",
     "text": [
      "(420551, 14)\n",
      "-7.62\n",
      "-8.83\n"
     ]
    }
   ],
   "source": [
    "def pairing(data, seq_len=6):\n",
    "\n",
    "    x = []\n",
    "    y = []\n",
    "\n",
    "    for i in range(0, (data.shape[0]- seq_len+1), seq_len+1):\n",
    "        seq = np.zeros((seq_len, data.shape[1]))\n",
    "\n",
    "        for j in range(seq_len):\n",
    "            seq[j] = data.values[i+j]\n",
    "\n",
    "        x.append(seq)\n",
    "        y.append(data[\"T (degC)\"][i + seq_len])\n",
    "\n",
    "    return np.array(x), np.array(y)\n",
    "\n",
    "print(data.shape)\n",
    "x, y = pairing(data)\n",
    "print(y[0])\n",
    "print(y[1])"
   ]
  },
  {
   "cell_type": "code",
   "execution_count": 20,
   "metadata": {},
   "outputs": [
    {
     "name": "stdout",
     "output_type": "stream",
     "text": [
      "(60078, 6, 14)\n",
      "-7.62\n",
      "-8.83\n"
     ]
    }
   ],
   "source": [
    "print(x.shape)\n",
    "print(y[0])\n",
    "print(y[1])"
   ]
  }
 ],
 "metadata": {
  "interpreter": {
   "hash": "4732be584c8675bd1318e2b536250c893a31e770e1f629f67b4b8f5dd5545fd2"
  },
  "kernelspec": {
   "display_name": "Python 3.9.7 64-bit ('machine_learning': conda)",
   "name": "python3"
  },
  "language_info": {
   "codemirror_mode": {
    "name": "ipython",
    "version": 3
   },
   "file_extension": ".py",
   "mimetype": "text/x-python",
   "name": "python",
   "nbconvert_exporter": "python",
   "pygments_lexer": "ipython3",
   "version": "3.9.7"
  },
  "orig_nbformat": 4
 },
 "nbformat": 4,
 "nbformat_minor": 2
}
