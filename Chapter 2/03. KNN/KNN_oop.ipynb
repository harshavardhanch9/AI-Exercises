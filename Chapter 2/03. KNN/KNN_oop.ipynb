{
 "cells": [
  {
   "cell_type": "code",
   "execution_count": 5,
   "metadata": {},
   "outputs": [],
   "source": [
    "# import\n",
    "import numpy as np\n",
    "from collections import Counter\n",
    "import pandas as pd\n",
    "import math\n",
    "import matplotlib.pyplot as pyplot\n",
    "from sklearn.datasets import make_blobs\n",
    "from sklearn.model_selection import train_test_split\n",
    "from operator import itemgetter\n",
    "from statistics import mode\n"
   ]
  },
  {
   "cell_type": "code",
   "execution_count": 8,
   "metadata": {},
   "outputs": [],
   "source": [
    "class KNN:\n",
    "\n",
    "    def __init__(self, k): # constructor can have as many arguments as you want\n",
    "        self.k = k\n",
    "    \n",
    "    def square_diff(self, v1, v2): # self is a reference to the object itself\n",
    "        diff_square = (v1 - v2) ** 2\n",
    "        return diff_square\n",
    "    \n",
    "    def root_sum_squared(self, v1): # a function is known as a method\n",
    "        get_roots = math.sqrt(sum(v1))\n",
    "        return get_roots\n",
    "    \n",
    "    def euclidean_distances(self, v1, v2):\n",
    "        inner_calculation = self.square_diff(v1, v2)\n",
    "        distance = self.root_sum_squared(inner_calculation)\n",
    "        return distance\n",
    "    \n",
    "    def evaluate(self, y, y_p):\n",
    "        count = 0\n",
    "        for index in range(0, len(y)):\n",
    "            if (y[index] == y_p[index]):\n",
    "                count+=1\n",
    "        print('Accuracy {:0.2f}%'.format(count / len(y)*100)) \n",
    "\n",
    "    def fit(self, x, y):\n",
    "        self.x_train = x\n",
    "        self.y_train = y\n",
    "        return self\n",
    "    \n",
    "    def predict(self, x_test):\n",
    "        nearest_distance_labels = []\n",
    "        for i in range(len(x_test)):\n",
    "            distance = []\n",
    "            for j in range(len(x_train)):\n",
    "                get_dist = self.euclidean_distances(x_test[i], x_train[j])\n",
    "                distance.append([get_dist, y_train[j]])\n",
    "            distance = sorted(distance, key=itemgetter(0))\n",
    "        # print(distance)\n",
    "            near_distance = np.array(distance[:self.k]).T\n",
    "        # print(near_distance)\n",
    "            nearest_distance_labels.append(int(mode(near_distance[1])))\n",
    "        # print(nearest_distance)\n",
    "        return np.array(nearest_distance_labels)   \n",
    "    "
   ]
  },
  {
   "cell_type": "code",
   "execution_count": 9,
   "metadata": {},
   "outputs": [],
   "source": [
    "X, Y = make_blobs(n_samples=300, n_features= 2, cluster_std = 0.6, random_state = 0, centers = 4 )"
   ]
  },
  {
   "cell_type": "code",
   "execution_count": 10,
   "metadata": {},
   "outputs": [],
   "source": [
    "knn = KNN(3)"
   ]
  },
  {
   "cell_type": "code",
   "execution_count": 12,
   "metadata": {},
   "outputs": [],
   "source": [
    "x_train, x_test, y_train, y_test = train_test_split(X, Y, test_size = 0.2, random_state = 0)"
   ]
  },
  {
   "cell_type": "code",
   "execution_count": 13,
   "metadata": {},
   "outputs": [
    {
     "data": {
      "text/plain": [
       "<__main__.KNN at 0x19897654670>"
      ]
     },
     "execution_count": 13,
     "metadata": {},
     "output_type": "execute_result"
    }
   ],
   "source": [
    "knn.fit(x_train, y_train)"
   ]
  },
  {
   "cell_type": "code",
   "execution_count": 14,
   "metadata": {},
   "outputs": [],
   "source": [
    "predictions = knn.predict(x_test)"
   ]
  },
  {
   "cell_type": "code",
   "execution_count": 17,
   "metadata": {},
   "outputs": [
    {
     "name": "stdout",
     "output_type": "stream",
     "text": [
      "Accuracy 100.00%\n"
     ]
    }
   ],
   "source": [
    "acc = knn.evaluate(predictions, y_test)  "
   ]
  }
 ],
 "metadata": {
  "interpreter": {
   "hash": "f5ac2de34b933ba314a3e6f48539e06e23cc03fb97d26544d4fa99c56e4a3ef7"
  },
  "kernelspec": {
   "display_name": "Python 3.8.11 64-bit ('strive': conda)",
   "name": "python3"
  },
  "language_info": {
   "codemirror_mode": {
    "name": "ipython",
    "version": 3
   },
   "file_extension": ".py",
   "mimetype": "text/x-python",
   "name": "python",
   "nbconvert_exporter": "python",
   "pygments_lexer": "ipython3",
   "version": "3.8.11"
  },
  "orig_nbformat": 4
 },
 "nbformat": 4,
 "nbformat_minor": 2
}
